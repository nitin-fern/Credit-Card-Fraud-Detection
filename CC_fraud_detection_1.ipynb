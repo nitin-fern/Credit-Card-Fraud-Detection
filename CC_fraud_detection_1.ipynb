{
 "cells": [
  {
   "cell_type": "markdown",
   "id": "existing-powder",
   "metadata": {},
   "source": [
    "# Data Description"
   ]
  },
  {
   "cell_type": "markdown",
   "id": "numeric-resident",
   "metadata": {},
   "source": [
    "The dataset contains transactions made by credit cards in September 2013 by European cardholders.\n",
    "This dataset presents transactions that occurred in two days, where we have 492 frauds out of 284,807 transactions. The dataset is highly unbalanced, the positive class (frauds) account for 0.172% of all transactions.\n",
    "\n",
    "It contains only numerical input variables which are the result of a PCA transformation. Unfortunately, due to confidentiality issues, we cannot provide the original features and more background information about the data. Features `V1, V2, … V28` are the principal components obtained with PCA, the only features which have not been transformed with PCA are 'Time' and 'Amount'. Feature 'Time' contains the seconds elapsed between each transaction and the first transaction in the dataset. The feature 'Amount' is the transaction Amount, this feature can be used for example-dependant cost-sensitive learning. Feature 'Class' is the response variable and it takes value 1 in case of fraud and 0 otherwise."
   ]
  },
  {
   "cell_type": "markdown",
   "id": "suburban-surname",
   "metadata": {},
   "source": [
    "# Loading Packages"
   ]
  },
  {
   "cell_type": "code",
   "execution_count": 11,
   "id": "de3015b4-8e3b-482a-a60a-fe2c50756121",
   "metadata": {},
   "outputs": [],
   "source": [
    "# Loading common libraries for data manipulation\n",
    "\n",
    "import numpy as np\n",
    "import pandas as pd\n",
    "import matplotlib.pyplot as plt"
   ]
  },
  {
   "cell_type": "code",
   "execution_count": 12,
   "id": "attended-python",
   "metadata": {},
   "outputs": [],
   "source": [
    "import os"
   ]
  },
  {
   "cell_type": "markdown",
   "id": "brazilian-substance",
   "metadata": {},
   "source": [
    "# Loading Dataset"
   ]
  },
  {
   "cell_type": "code",
   "execution_count": 13,
   "id": "informational-blind",
   "metadata": {},
   "outputs": [],
   "source": [
    "Dataset_path=os.getcwd()+\"/Datasets/creditcard.csv\""
   ]
  },
  {
   "cell_type": "code",
   "execution_count": 14,
   "id": "630c1deb-3771-4c61-ac4d-22032152e250",
   "metadata": {},
   "outputs": [],
   "source": [
    "Dataset=pd.read_csv(Dataset_path)"
   ]
  },
  {
   "cell_type": "code",
   "execution_count": 15,
   "id": "advisory-invite",
   "metadata": {},
   "outputs": [
    {
     "name": "stdout",
     "output_type": "stream",
     "text": [
      "<class 'pandas.core.frame.DataFrame'>\n",
      "RangeIndex: 284807 entries, 0 to 284806\n",
      "Data columns (total 31 columns):\n",
      " #   Column  Non-Null Count   Dtype  \n",
      "---  ------  --------------   -----  \n",
      " 0   Time    284807 non-null  float64\n",
      " 1   V1      284807 non-null  float64\n",
      " 2   V2      284807 non-null  float64\n",
      " 3   V3      284807 non-null  float64\n",
      " 4   V4      284807 non-null  float64\n",
      " 5   V5      284807 non-null  float64\n",
      " 6   V6      284807 non-null  float64\n",
      " 7   V7      284807 non-null  float64\n",
      " 8   V8      284807 non-null  float64\n",
      " 9   V9      284807 non-null  float64\n",
      " 10  V10     284807 non-null  float64\n",
      " 11  V11     284807 non-null  float64\n",
      " 12  V12     284807 non-null  float64\n",
      " 13  V13     284807 non-null  float64\n",
      " 14  V14     284807 non-null  float64\n",
      " 15  V15     284807 non-null  float64\n",
      " 16  V16     284807 non-null  float64\n",
      " 17  V17     284807 non-null  float64\n",
      " 18  V18     284807 non-null  float64\n",
      " 19  V19     284807 non-null  float64\n",
      " 20  V20     284807 non-null  float64\n",
      " 21  V21     284807 non-null  float64\n",
      " 22  V22     284807 non-null  float64\n",
      " 23  V23     284807 non-null  float64\n",
      " 24  V24     284807 non-null  float64\n",
      " 25  V25     284807 non-null  float64\n",
      " 26  V26     284807 non-null  float64\n",
      " 27  V27     284807 non-null  float64\n",
      " 28  V28     284807 non-null  float64\n",
      " 29  Amount  284807 non-null  float64\n",
      " 30  Class   284807 non-null  int64  \n",
      "dtypes: float64(30), int64(1)\n",
      "memory usage: 67.4 MB\n"
     ]
    }
   ],
   "source": [
    "Dataset.info()"
   ]
  },
  {
   "cell_type": "code",
   "execution_count": 16,
   "id": "prepared-traveler",
   "metadata": {},
   "outputs": [
    {
     "data": {
      "text/html": [
       "<div>\n",
       "<style scoped>\n",
       "    .dataframe tbody tr th:only-of-type {\n",
       "        vertical-align: middle;\n",
       "    }\n",
       "\n",
       "    .dataframe tbody tr th {\n",
       "        vertical-align: top;\n",
       "    }\n",
       "\n",
       "    .dataframe thead th {\n",
       "        text-align: right;\n",
       "    }\n",
       "</style>\n",
       "<table border=\"1\" class=\"dataframe\">\n",
       "  <thead>\n",
       "    <tr style=\"text-align: right;\">\n",
       "      <th></th>\n",
       "      <th>Time</th>\n",
       "      <th>V1</th>\n",
       "      <th>V2</th>\n",
       "      <th>V3</th>\n",
       "      <th>V4</th>\n",
       "      <th>V5</th>\n",
       "      <th>V6</th>\n",
       "      <th>V7</th>\n",
       "      <th>V8</th>\n",
       "      <th>V9</th>\n",
       "      <th>...</th>\n",
       "      <th>V21</th>\n",
       "      <th>V22</th>\n",
       "      <th>V23</th>\n",
       "      <th>V24</th>\n",
       "      <th>V25</th>\n",
       "      <th>V26</th>\n",
       "      <th>V27</th>\n",
       "      <th>V28</th>\n",
       "      <th>Amount</th>\n",
       "      <th>Class</th>\n",
       "    </tr>\n",
       "  </thead>\n",
       "  <tbody>\n",
       "    <tr>\n",
       "      <th>count</th>\n",
       "      <td>284807.000000</td>\n",
       "      <td>2.848070e+05</td>\n",
       "      <td>2.848070e+05</td>\n",
       "      <td>2.848070e+05</td>\n",
       "      <td>2.848070e+05</td>\n",
       "      <td>2.848070e+05</td>\n",
       "      <td>2.848070e+05</td>\n",
       "      <td>2.848070e+05</td>\n",
       "      <td>2.848070e+05</td>\n",
       "      <td>2.848070e+05</td>\n",
       "      <td>...</td>\n",
       "      <td>2.848070e+05</td>\n",
       "      <td>2.848070e+05</td>\n",
       "      <td>2.848070e+05</td>\n",
       "      <td>2.848070e+05</td>\n",
       "      <td>2.848070e+05</td>\n",
       "      <td>2.848070e+05</td>\n",
       "      <td>2.848070e+05</td>\n",
       "      <td>2.848070e+05</td>\n",
       "      <td>284807.000000</td>\n",
       "      <td>284807.000000</td>\n",
       "    </tr>\n",
       "    <tr>\n",
       "      <th>mean</th>\n",
       "      <td>94813.859575</td>\n",
       "      <td>1.168375e-15</td>\n",
       "      <td>3.416908e-16</td>\n",
       "      <td>-1.379537e-15</td>\n",
       "      <td>2.074095e-15</td>\n",
       "      <td>9.604066e-16</td>\n",
       "      <td>1.487313e-15</td>\n",
       "      <td>-5.556467e-16</td>\n",
       "      <td>1.213481e-16</td>\n",
       "      <td>-2.406331e-15</td>\n",
       "      <td>...</td>\n",
       "      <td>1.654067e-16</td>\n",
       "      <td>-3.568593e-16</td>\n",
       "      <td>2.578648e-16</td>\n",
       "      <td>4.473266e-15</td>\n",
       "      <td>5.340915e-16</td>\n",
       "      <td>1.683437e-15</td>\n",
       "      <td>-3.660091e-16</td>\n",
       "      <td>-1.227390e-16</td>\n",
       "      <td>88.349619</td>\n",
       "      <td>0.001727</td>\n",
       "    </tr>\n",
       "    <tr>\n",
       "      <th>std</th>\n",
       "      <td>47488.145955</td>\n",
       "      <td>1.958696e+00</td>\n",
       "      <td>1.651309e+00</td>\n",
       "      <td>1.516255e+00</td>\n",
       "      <td>1.415869e+00</td>\n",
       "      <td>1.380247e+00</td>\n",
       "      <td>1.332271e+00</td>\n",
       "      <td>1.237094e+00</td>\n",
       "      <td>1.194353e+00</td>\n",
       "      <td>1.098632e+00</td>\n",
       "      <td>...</td>\n",
       "      <td>7.345240e-01</td>\n",
       "      <td>7.257016e-01</td>\n",
       "      <td>6.244603e-01</td>\n",
       "      <td>6.056471e-01</td>\n",
       "      <td>5.212781e-01</td>\n",
       "      <td>4.822270e-01</td>\n",
       "      <td>4.036325e-01</td>\n",
       "      <td>3.300833e-01</td>\n",
       "      <td>250.120109</td>\n",
       "      <td>0.041527</td>\n",
       "    </tr>\n",
       "    <tr>\n",
       "      <th>min</th>\n",
       "      <td>0.000000</td>\n",
       "      <td>-5.640751e+01</td>\n",
       "      <td>-7.271573e+01</td>\n",
       "      <td>-4.832559e+01</td>\n",
       "      <td>-5.683171e+00</td>\n",
       "      <td>-1.137433e+02</td>\n",
       "      <td>-2.616051e+01</td>\n",
       "      <td>-4.355724e+01</td>\n",
       "      <td>-7.321672e+01</td>\n",
       "      <td>-1.343407e+01</td>\n",
       "      <td>...</td>\n",
       "      <td>-3.483038e+01</td>\n",
       "      <td>-1.093314e+01</td>\n",
       "      <td>-4.480774e+01</td>\n",
       "      <td>-2.836627e+00</td>\n",
       "      <td>-1.029540e+01</td>\n",
       "      <td>-2.604551e+00</td>\n",
       "      <td>-2.256568e+01</td>\n",
       "      <td>-1.543008e+01</td>\n",
       "      <td>0.000000</td>\n",
       "      <td>0.000000</td>\n",
       "    </tr>\n",
       "    <tr>\n",
       "      <th>25%</th>\n",
       "      <td>54201.500000</td>\n",
       "      <td>-9.203734e-01</td>\n",
       "      <td>-5.985499e-01</td>\n",
       "      <td>-8.903648e-01</td>\n",
       "      <td>-8.486401e-01</td>\n",
       "      <td>-6.915971e-01</td>\n",
       "      <td>-7.682956e-01</td>\n",
       "      <td>-5.540759e-01</td>\n",
       "      <td>-2.086297e-01</td>\n",
       "      <td>-6.430976e-01</td>\n",
       "      <td>...</td>\n",
       "      <td>-2.283949e-01</td>\n",
       "      <td>-5.423504e-01</td>\n",
       "      <td>-1.618463e-01</td>\n",
       "      <td>-3.545861e-01</td>\n",
       "      <td>-3.171451e-01</td>\n",
       "      <td>-3.269839e-01</td>\n",
       "      <td>-7.083953e-02</td>\n",
       "      <td>-5.295979e-02</td>\n",
       "      <td>5.600000</td>\n",
       "      <td>0.000000</td>\n",
       "    </tr>\n",
       "    <tr>\n",
       "      <th>50%</th>\n",
       "      <td>84692.000000</td>\n",
       "      <td>1.810880e-02</td>\n",
       "      <td>6.548556e-02</td>\n",
       "      <td>1.798463e-01</td>\n",
       "      <td>-1.984653e-02</td>\n",
       "      <td>-5.433583e-02</td>\n",
       "      <td>-2.741871e-01</td>\n",
       "      <td>4.010308e-02</td>\n",
       "      <td>2.235804e-02</td>\n",
       "      <td>-5.142873e-02</td>\n",
       "      <td>...</td>\n",
       "      <td>-2.945017e-02</td>\n",
       "      <td>6.781943e-03</td>\n",
       "      <td>-1.119293e-02</td>\n",
       "      <td>4.097606e-02</td>\n",
       "      <td>1.659350e-02</td>\n",
       "      <td>-5.213911e-02</td>\n",
       "      <td>1.342146e-03</td>\n",
       "      <td>1.124383e-02</td>\n",
       "      <td>22.000000</td>\n",
       "      <td>0.000000</td>\n",
       "    </tr>\n",
       "    <tr>\n",
       "      <th>75%</th>\n",
       "      <td>139320.500000</td>\n",
       "      <td>1.315642e+00</td>\n",
       "      <td>8.037239e-01</td>\n",
       "      <td>1.027196e+00</td>\n",
       "      <td>7.433413e-01</td>\n",
       "      <td>6.119264e-01</td>\n",
       "      <td>3.985649e-01</td>\n",
       "      <td>5.704361e-01</td>\n",
       "      <td>3.273459e-01</td>\n",
       "      <td>5.971390e-01</td>\n",
       "      <td>...</td>\n",
       "      <td>1.863772e-01</td>\n",
       "      <td>5.285536e-01</td>\n",
       "      <td>1.476421e-01</td>\n",
       "      <td>4.395266e-01</td>\n",
       "      <td>3.507156e-01</td>\n",
       "      <td>2.409522e-01</td>\n",
       "      <td>9.104512e-02</td>\n",
       "      <td>7.827995e-02</td>\n",
       "      <td>77.165000</td>\n",
       "      <td>0.000000</td>\n",
       "    </tr>\n",
       "    <tr>\n",
       "      <th>max</th>\n",
       "      <td>172792.000000</td>\n",
       "      <td>2.454930e+00</td>\n",
       "      <td>2.205773e+01</td>\n",
       "      <td>9.382558e+00</td>\n",
       "      <td>1.687534e+01</td>\n",
       "      <td>3.480167e+01</td>\n",
       "      <td>7.330163e+01</td>\n",
       "      <td>1.205895e+02</td>\n",
       "      <td>2.000721e+01</td>\n",
       "      <td>1.559499e+01</td>\n",
       "      <td>...</td>\n",
       "      <td>2.720284e+01</td>\n",
       "      <td>1.050309e+01</td>\n",
       "      <td>2.252841e+01</td>\n",
       "      <td>4.584549e+00</td>\n",
       "      <td>7.519589e+00</td>\n",
       "      <td>3.517346e+00</td>\n",
       "      <td>3.161220e+01</td>\n",
       "      <td>3.384781e+01</td>\n",
       "      <td>25691.160000</td>\n",
       "      <td>1.000000</td>\n",
       "    </tr>\n",
       "  </tbody>\n",
       "</table>\n",
       "<p>8 rows × 31 columns</p>\n",
       "</div>"
      ],
      "text/plain": [
       "                Time            V1            V2            V3            V4  \\\n",
       "count  284807.000000  2.848070e+05  2.848070e+05  2.848070e+05  2.848070e+05   \n",
       "mean    94813.859575  1.168375e-15  3.416908e-16 -1.379537e-15  2.074095e-15   \n",
       "std     47488.145955  1.958696e+00  1.651309e+00  1.516255e+00  1.415869e+00   \n",
       "min         0.000000 -5.640751e+01 -7.271573e+01 -4.832559e+01 -5.683171e+00   \n",
       "25%     54201.500000 -9.203734e-01 -5.985499e-01 -8.903648e-01 -8.486401e-01   \n",
       "50%     84692.000000  1.810880e-02  6.548556e-02  1.798463e-01 -1.984653e-02   \n",
       "75%    139320.500000  1.315642e+00  8.037239e-01  1.027196e+00  7.433413e-01   \n",
       "max    172792.000000  2.454930e+00  2.205773e+01  9.382558e+00  1.687534e+01   \n",
       "\n",
       "                 V5            V6            V7            V8            V9  \\\n",
       "count  2.848070e+05  2.848070e+05  2.848070e+05  2.848070e+05  2.848070e+05   \n",
       "mean   9.604066e-16  1.487313e-15 -5.556467e-16  1.213481e-16 -2.406331e-15   \n",
       "std    1.380247e+00  1.332271e+00  1.237094e+00  1.194353e+00  1.098632e+00   \n",
       "min   -1.137433e+02 -2.616051e+01 -4.355724e+01 -7.321672e+01 -1.343407e+01   \n",
       "25%   -6.915971e-01 -7.682956e-01 -5.540759e-01 -2.086297e-01 -6.430976e-01   \n",
       "50%   -5.433583e-02 -2.741871e-01  4.010308e-02  2.235804e-02 -5.142873e-02   \n",
       "75%    6.119264e-01  3.985649e-01  5.704361e-01  3.273459e-01  5.971390e-01   \n",
       "max    3.480167e+01  7.330163e+01  1.205895e+02  2.000721e+01  1.559499e+01   \n",
       "\n",
       "       ...           V21           V22           V23           V24  \\\n",
       "count  ...  2.848070e+05  2.848070e+05  2.848070e+05  2.848070e+05   \n",
       "mean   ...  1.654067e-16 -3.568593e-16  2.578648e-16  4.473266e-15   \n",
       "std    ...  7.345240e-01  7.257016e-01  6.244603e-01  6.056471e-01   \n",
       "min    ... -3.483038e+01 -1.093314e+01 -4.480774e+01 -2.836627e+00   \n",
       "25%    ... -2.283949e-01 -5.423504e-01 -1.618463e-01 -3.545861e-01   \n",
       "50%    ... -2.945017e-02  6.781943e-03 -1.119293e-02  4.097606e-02   \n",
       "75%    ...  1.863772e-01  5.285536e-01  1.476421e-01  4.395266e-01   \n",
       "max    ...  2.720284e+01  1.050309e+01  2.252841e+01  4.584549e+00   \n",
       "\n",
       "                V25           V26           V27           V28         Amount  \\\n",
       "count  2.848070e+05  2.848070e+05  2.848070e+05  2.848070e+05  284807.000000   \n",
       "mean   5.340915e-16  1.683437e-15 -3.660091e-16 -1.227390e-16      88.349619   \n",
       "std    5.212781e-01  4.822270e-01  4.036325e-01  3.300833e-01     250.120109   \n",
       "min   -1.029540e+01 -2.604551e+00 -2.256568e+01 -1.543008e+01       0.000000   \n",
       "25%   -3.171451e-01 -3.269839e-01 -7.083953e-02 -5.295979e-02       5.600000   \n",
       "50%    1.659350e-02 -5.213911e-02  1.342146e-03  1.124383e-02      22.000000   \n",
       "75%    3.507156e-01  2.409522e-01  9.104512e-02  7.827995e-02      77.165000   \n",
       "max    7.519589e+00  3.517346e+00  3.161220e+01  3.384781e+01   25691.160000   \n",
       "\n",
       "               Class  \n",
       "count  284807.000000  \n",
       "mean        0.001727  \n",
       "std         0.041527  \n",
       "min         0.000000  \n",
       "25%         0.000000  \n",
       "50%         0.000000  \n",
       "75%         0.000000  \n",
       "max         1.000000  \n",
       "\n",
       "[8 rows x 31 columns]"
      ]
     },
     "execution_count": 16,
     "metadata": {},
     "output_type": "execute_result"
    }
   ],
   "source": [
    "Dataset.describe()"
   ]
  },
  {
   "cell_type": "markdown",
   "id": "executed-turtle",
   "metadata": {},
   "source": [
    "# Sampling Data"
   ]
  },
  {
   "cell_type": "markdown",
   "id": "stock-question",
   "metadata": {},
   "source": [
    "We shall split the data into `Training_data` and `Test_data` using SRSWOR with $80\\%$ percent transactions in training data and $20\\%$ transactions in test data "
   ]
  },
  {
   "cell_type": "code",
   "execution_count": 17,
   "id": "further-character",
   "metadata": {},
   "outputs": [],
   "source": [
    "Training_data=Dataset.sample(random_state=2,n=int(Dataset.shape[0]*0.8))\n",
    "Training_index=sorted(Training_data.index.tolist())\n",
    "\n",
    "Test_index=set(list(range(1,Dataset.shape[0]+1))).difference(Training_index)\n",
    "Test_data=Dataset[Dataset.index.isin(Test_index)]"
   ]
  },
  {
   "cell_type": "code",
   "execution_count": 18,
   "id": "45d45330-c379-47dd-b4cb-33897f626b4d",
   "metadata": {
    "scrolled": true
   },
   "outputs": [],
   "source": [
    "# Saving Training data and Test data in the disc.\n",
    "\n",
    "# Training_data.to_csv(\"Datasets/Training_data.csv\")\n",
    "# Test_data.to_csv(\"Datasets/Test_data.csv\")"
   ]
  },
  {
   "cell_type": "markdown",
   "id": "sonic-tennessee",
   "metadata": {},
   "source": [
    "# Data Visualisation"
   ]
  },
  {
   "cell_type": "markdown",
   "id": "cloudy-twenty",
   "metadata": {},
   "source": [
    "1. We shall plot, project the data points on few 2-D planes to gain more failiarity with the data points. Moreover we make a circle around every projected data point whose area is proportional to the transaction amount.\n",
    "2. We shall see at what time fraud transaction usually takes place."
   ]
  },
  {
   "cell_type": "code",
   "execution_count": 19,
   "id": "comprehensive-secretary",
   "metadata": {},
   "outputs": [
    {
     "data": {
      "image/png": "[encoded data removed]",
      "text/plain": [
       "<Figure size 432x288 with 2 Axes>"
      ]
     },
     "metadata": {
      "needs_background": "light"
     },
     "output_type": "display_data"
    }
   ],
   "source": [
    "fig, [ax1,ax2] = plt.subplots(1,2)\n",
    "ax1.scatter(Training_data[\"V1\"],Training_data[\"V2\"], c=Training_data[\"Class\"], s=Training_data[\"Amount\"], alpha=0.5)\n",
    "ax1.set_xlabel(\"V1\", fontsize=15)\n",
    "ax1.set_ylabel(\"V2\", fontsize=15)\n",
    "ax1.set_title('Plot')\n",
    "ax1.grid(True)\n",
    "\n",
    "ax2.scatter(Training_data[\"V3\"],Training_data[\"V4\"], c=Training_data[\"Class\"], s=Training_data[\"Amount\"], alpha=0.5)\n",
    "ax2.set_xlabel(\"V3\", fontsize=15)\n",
    "ax2.set_ylabel(\"V4\", fontsize=15)\n",
    "ax2.set_title('Plot')\n",
    "ax2.grid(True)\n",
    "\n",
    "fig.tight_layout()\n",
    "\n",
    "plt.show()"
   ]
  },
  {
   "cell_type": "code",
   "execution_count": 20,
   "id": "canadian-breeding",
   "metadata": {
    "scrolled": true
   },
   "outputs": [
    {
     "data": {
      "text/plain": [
       "[<matplotlib.lines.Line2D at 0x7ff79bbdc040>]"
      ]
     },
     "execution_count": 20,
     "metadata": {},
     "output_type": "execute_result"
    },
    {
     "data": {
      "image/png": "[encoded data removed]",
      "text/plain": [
       "<Figure size 432x288 with 1 Axes>"
      ]
     },
     "metadata": {
      "needs_background": "light"
     },
     "output_type": "display_data"
    }
   ],
   "source": [
    "plt.plot(Dataset[\"Time\"],Dataset[\"Class\"])"
   ]
  },
  {
   "cell_type": "markdown",
   "id": "biological-metallic",
   "metadata": {},
   "source": [
    "### Obervations\n",
    "\n",
    "1. In the first picture from the second plot, we observe that the fraud transactions are seperable using some non linear curves. Hence, algorithms like Logitic Regression, SVM classifier, Neural Network may solve our problem.\n",
    "2. The transaction amount of fraud transactions are small. (Radius of yellow circles is small)\n",
    "3. From the second picture, it looks like there is no preferable time for fraud transactions. We will try to conform this claim in the subsequent sections using Non parametric tests like Wald–Wolfowitz runs test"
   ]
  },
  {
   "cell_type": "markdown",
   "id": "competent-resort",
   "metadata": {},
   "source": [
    "# Classification methods"
   ]
  },
  {
   "cell_type": "markdown",
   "id": "banner-indianapolis",
   "metadata": {},
   "source": [
    "We will now use different classification models and train our model. To measure our model accuracy we shall consider the following performance metrics-\n",
    "1. **Confusion Matrix:** For a model with $n$ classes, the confusion matrix is an $n\\times n$ matrix whose $ij^{th}$ element contains numbers of instances of class $i$ classified as class $j$. For a perfect classifier the matrix will be a diagonal matrix. In our case we have only two classes, $0$ and $1$. We label $0$ as negative and $1$ as positive. Therefore, the confusion matrix takes the following form-\n",
    "\n",
    "| |Predicted Negative | Predicted Positive |\n",
    "|---|---|---|\n",
    "| Actual Negative | TN | FP |\n",
    "| Actual Positive | FN | TP |\n",
    "\n",
    "2. **Precision Score:** It is percentage of true positive instances among all positive predicted instances $=\\dfrac{TP}{\\text{Total Positive} }=\\dfrac{TP}{TP+FP}$\n",
    "3. **Recall:** It is the percentage of true true positive instances among actual positive instances $=\\dfrac{TP}{\\text{Actual positive instances} }=\\dfrac{TP}{TP+FN}$\n",
    "4. **F$_1$ Score:** It is the harmonic mean of precison and recall. Harmonic mean of two numbers in $[0,1]$ is high only if none of them is very close to zero. Hence, F_$1$ Score is high iff both precision and recall are high and none of them is small.\n",
    "5. **ROC Curve:** ROC curve plots the true positive rate (recall) against the false positive rate (FPR).\n",
    "\n",
    "\n",
    "\n"
   ]
  },
  {
   "cell_type": "code",
   "execution_count": 21,
   "id": "quantitative-bulgarian",
   "metadata": {},
   "outputs": [],
   "source": [
    "X = Training_data.iloc[:,0:30]\n",
    "y = Training_data[\"Class\"]\n",
    "\n",
    "import sklearn.linear_model as lm\n",
    "from sklearn.model_selection import StratifiedKFold\n",
    "from sklearn.base import clone\n",
    "from sklearn.model_selection import cross_val_predict\n",
    "\n",
    "from sklearn.metrics import confusion_matrix, precision_score, recall_score, f1_score\n",
    "import sklearn.metrics"
   ]
  },
  {
   "cell_type": "code",
   "execution_count": 22,
   "id": "objective-baker",
   "metadata": {},
   "outputs": [
    {
     "data": {
      "text/html": [
       "<div>\n",
       "<style scoped>\n",
       "    .dataframe tbody tr th:only-of-type {\n",
       "        vertical-align: middle;\n",
       "    }\n",
       "\n",
       "    .dataframe tbody tr th {\n",
       "        vertical-align: top;\n",
       "    }\n",
       "\n",
       "    .dataframe thead th {\n",
       "        text-align: right;\n",
       "    }\n",
       "</style>\n",
       "<table border=\"1\" class=\"dataframe\">\n",
       "  <thead>\n",
       "    <tr style=\"text-align: right;\">\n",
       "      <th></th>\n",
       "      <th>Time</th>\n",
       "      <th>V1</th>\n",
       "      <th>V2</th>\n",
       "      <th>V3</th>\n",
       "      <th>V4</th>\n",
       "      <th>V5</th>\n",
       "      <th>V6</th>\n",
       "      <th>V7</th>\n",
       "      <th>V8</th>\n",
       "      <th>V9</th>\n",
       "      <th>...</th>\n",
       "      <th>V20</th>\n",
       "      <th>V21</th>\n",
       "      <th>V22</th>\n",
       "      <th>V23</th>\n",
       "      <th>V24</th>\n",
       "      <th>V25</th>\n",
       "      <th>V26</th>\n",
       "      <th>V27</th>\n",
       "      <th>V28</th>\n",
       "      <th>Amount</th>\n",
       "    </tr>\n",
       "  </thead>\n",
       "  <tbody>\n",
       "    <tr>\n",
       "      <th>225184</th>\n",
       "      <td>144140.0</td>\n",
       "      <td>-0.581460</td>\n",
       "      <td>0.950267</td>\n",
       "      <td>0.115938</td>\n",
       "      <td>-1.384767</td>\n",
       "      <td>1.388364</td>\n",
       "      <td>-1.595678</td>\n",
       "      <td>2.120867</td>\n",
       "      <td>-0.718954</td>\n",
       "      <td>-0.205211</td>\n",
       "      <td>...</td>\n",
       "      <td>-0.292792</td>\n",
       "      <td>0.153480</td>\n",
       "      <td>0.656548</td>\n",
       "      <td>-0.514192</td>\n",
       "      <td>0.077220</td>\n",
       "      <td>0.736220</td>\n",
       "      <td>-0.302469</td>\n",
       "      <td>-0.254862</td>\n",
       "      <td>-0.126279</td>\n",
       "      <td>12.82</td>\n",
       "    </tr>\n",
       "    <tr>\n",
       "      <th>116637</th>\n",
       "      <td>74369.0</td>\n",
       "      <td>0.686730</td>\n",
       "      <td>-0.785586</td>\n",
       "      <td>0.945092</td>\n",
       "      <td>1.476634</td>\n",
       "      <td>-1.191074</td>\n",
       "      <td>-0.193185</td>\n",
       "      <td>-0.217963</td>\n",
       "      <td>-0.011827</td>\n",
       "      <td>0.727172</td>\n",
       "      <td>...</td>\n",
       "      <td>0.388521</td>\n",
       "      <td>0.277960</td>\n",
       "      <td>0.419683</td>\n",
       "      <td>-0.314303</td>\n",
       "      <td>0.427369</td>\n",
       "      <td>0.426733</td>\n",
       "      <td>-0.285560</td>\n",
       "      <td>0.022906</td>\n",
       "      <td>0.079838</td>\n",
       "      <td>256.39</td>\n",
       "    </tr>\n",
       "    <tr>\n",
       "      <th>99414</th>\n",
       "      <td>67107.0</td>\n",
       "      <td>-0.848395</td>\n",
       "      <td>1.214313</td>\n",
       "      <td>0.954869</td>\n",
       "      <td>-0.030145</td>\n",
       "      <td>-0.177527</td>\n",
       "      <td>-0.851855</td>\n",
       "      <td>0.444232</td>\n",
       "      <td>0.369063</td>\n",
       "      <td>-1.005181</td>\n",
       "      <td>...</td>\n",
       "      <td>0.079630</td>\n",
       "      <td>0.205928</td>\n",
       "      <td>0.552455</td>\n",
       "      <td>-0.064845</td>\n",
       "      <td>0.590082</td>\n",
       "      <td>-0.271787</td>\n",
       "      <td>0.276440</td>\n",
       "      <td>0.217840</td>\n",
       "      <td>0.127724</td>\n",
       "      <td>16.44</td>\n",
       "    </tr>\n",
       "    <tr>\n",
       "      <th>217619</th>\n",
       "      <td>140965.0</td>\n",
       "      <td>-1.104465</td>\n",
       "      <td>0.616952</td>\n",
       "      <td>-0.878973</td>\n",
       "      <td>-0.312839</td>\n",
       "      <td>-0.092112</td>\n",
       "      <td>-0.020623</td>\n",
       "      <td>1.422463</td>\n",
       "      <td>0.442278</td>\n",
       "      <td>-0.406603</td>\n",
       "      <td>...</td>\n",
       "      <td>0.511897</td>\n",
       "      <td>0.265005</td>\n",
       "      <td>0.438796</td>\n",
       "      <td>0.413781</td>\n",
       "      <td>0.649776</td>\n",
       "      <td>-0.082746</td>\n",
       "      <td>0.520578</td>\n",
       "      <td>0.151103</td>\n",
       "      <td>0.216899</td>\n",
       "      <td>270.00</td>\n",
       "    </tr>\n",
       "    <tr>\n",
       "      <th>279878</th>\n",
       "      <td>169155.0</td>\n",
       "      <td>2.061985</td>\n",
       "      <td>-0.114758</td>\n",
       "      <td>-1.079406</td>\n",
       "      <td>0.427062</td>\n",
       "      <td>-0.229701</td>\n",
       "      <td>-1.241109</td>\n",
       "      <td>0.121975</td>\n",
       "      <td>-0.283331</td>\n",
       "      <td>0.679923</td>\n",
       "      <td>...</td>\n",
       "      <td>-0.284520</td>\n",
       "      <td>-0.299538</td>\n",
       "      <td>-0.772333</td>\n",
       "      <td>0.352777</td>\n",
       "      <td>0.021161</td>\n",
       "      <td>-0.330437</td>\n",
       "      <td>0.198512</td>\n",
       "      <td>-0.076625</td>\n",
       "      <td>-0.061905</td>\n",
       "      <td>1.29</td>\n",
       "    </tr>\n",
       "  </tbody>\n",
       "</table>\n",
       "<p>5 rows × 30 columns</p>\n",
       "</div>"
      ],
      "text/plain": [
       "            Time        V1        V2        V3        V4        V5        V6  \\\n",
       "225184  144140.0 -0.581460  0.950267  0.115938 -1.384767  1.388364 -1.595678   \n",
       "116637   74369.0  0.686730 -0.785586  0.945092  1.476634 -1.191074 -0.193185   \n",
       "99414    67107.0 -0.848395  1.214313  0.954869 -0.030145 -0.177527 -0.851855   \n",
       "217619  140965.0 -1.104465  0.616952 -0.878973 -0.312839 -0.092112 -0.020623   \n",
       "279878  169155.0  2.061985 -0.114758 -1.079406  0.427062 -0.229701 -1.241109   \n",
       "\n",
       "              V7        V8        V9  ...       V20       V21       V22  \\\n",
       "225184  2.120867 -0.718954 -0.205211  ... -0.292792  0.153480  0.656548   \n",
       "116637 -0.217963 -0.011827  0.727172  ...  0.388521  0.277960  0.419683   \n",
       "99414   0.444232  0.369063 -1.005181  ...  0.079630  0.205928  0.552455   \n",
       "217619  1.422463  0.442278 -0.406603  ...  0.511897  0.265005  0.438796   \n",
       "279878  0.121975 -0.283331  0.679923  ... -0.284520 -0.299538 -0.772333   \n",
       "\n",
       "             V23       V24       V25       V26       V27       V28  Amount  \n",
       "225184 -0.514192  0.077220  0.736220 -0.302469 -0.254862 -0.126279   12.82  \n",
       "116637 -0.314303  0.427369  0.426733 -0.285560  0.022906  0.079838  256.39  \n",
       "99414  -0.064845  0.590082 -0.271787  0.276440  0.217840  0.127724   16.44  \n",
       "217619  0.413781  0.649776 -0.082746  0.520578  0.151103  0.216899  270.00  \n",
       "279878  0.352777  0.021161 -0.330437  0.198512 -0.076625 -0.061905    1.29  \n",
       "\n",
       "[5 rows x 30 columns]"
      ]
     },
     "execution_count": 22,
     "metadata": {},
     "output_type": "execute_result"
    }
   ],
   "source": [
    "Training_data.head()\n",
    "X.head()"
   ]
  },
  {
   "cell_type": "markdown",
   "id": "successful-karaoke",
   "metadata": {},
   "source": [
    "## SGD Classifier"
   ]
  },
  {
   "cell_type": "code",
   "execution_count": 23,
   "id": "incorrect-alarm",
   "metadata": {},
   "outputs": [],
   "source": [
    "sgd_clf = lm.SGDClassifier(loss=\"hinge\", penalty=\"l2\", max_iter=300)"
   ]
  },
  {
   "cell_type": "code",
   "execution_count": 24,
   "id": "nuclear-argentina",
   "metadata": {},
   "outputs": [
    {
     "data": {
      "text/plain": [
       "array([0, 0, 0, 0, 0, 0, 0, 0, 0])"
      ]
     },
     "execution_count": 24,
     "metadata": {},
     "output_type": "execute_result"
    }
   ],
   "source": [
    "sgd_clf.fit(X, y)\n",
    "sgd_clf.predict(X[1:10])"
   ]
  },
  {
   "cell_type": "code",
   "execution_count": 25,
   "id": "smooth-letter",
   "metadata": {},
   "outputs": [
    {
     "name": "stdout",
     "output_type": "stream",
     "text": [
      "0.9934956352289036\n",
      "0.998222468004424\n",
      "0.9981566334860694\n"
     ]
    }
   ],
   "source": [
    "skfolds = sklearn.model_selection.StratifiedKFold(n_splits=3)\n",
    "for train_index, test_index in skfolds.split(X, y):\n",
    "    sgd_clone_clf = clone(sgd_clf)\n",
    "    \n",
    "    X_train_folds = X.iloc[train_index,:]\n",
    "    y_train_folds = y.iloc[train_index]\n",
    "    X_test_fold = X.iloc[test_index,:]\n",
    "    y_test_fold = y.iloc[test_index]\n",
    "    \n",
    "    sgd_clone_clf.fit(X_train_folds, y_train_folds)\n",
    "    y_pred = sgd_clone_clf.predict(X_test_fold)\n",
    "    n_correct = sum(y_pred == y_test_fold)\n",
    "    print(n_correct / len(y_pred))"
   ]
  },
  {
   "cell_type": "code",
   "execution_count": 26,
   "id": "unusual-transmission",
   "metadata": {},
   "outputs": [],
   "source": [
    "y_predict_sgd = cross_val_predict(sgd_clf, X, y, cv=3)"
   ]
  },
  {
   "cell_type": "code",
   "execution_count": 27,
   "id": "answering-partner",
   "metadata": {},
   "outputs": [
    {
     "data": {
      "text/plain": [
       "array([[227439,      9],\n",
       "       [   396,      1]])"
      ]
     },
     "execution_count": 27,
     "metadata": {},
     "output_type": "execute_result"
    }
   ],
   "source": [
    "sklearn.metrics.confusion_matrix(y, y_predict_sgd)"
   ]
  },
  {
   "cell_type": "code",
   "execution_count": 28,
   "id": "assigned-model",
   "metadata": {},
   "outputs": [
    {
     "data": {
      "text/plain": [
       "[0.1, 0.0025188916876574307, 0.004914004914004914]"
      ]
     },
     "execution_count": 28,
     "metadata": {},
     "output_type": "execute_result"
    }
   ],
   "source": [
    "[sklearn.metrics.precision_score(y, y_predict_sgd),\n",
    "sklearn.metrics.recall_score(y, y_predict_sgd),\n",
    "sklearn.metrics.f1_score(y, y_predict_sgd)]"
   ]
  },
  {
   "cell_type": "code",
   "execution_count": 29,
   "id": "brown-vector",
   "metadata": {},
   "outputs": [],
   "source": [
    "y_sgd_threshold = cross_val_predict(sgd_clf, X, y, cv=3, method=\"decision_function\")"
   ]
  },
  {
   "cell_type": "code",
   "execution_count": 30,
   "id": "functional-system",
   "metadata": {},
   "outputs": [],
   "source": [
    "sgd_precisions, sgd_recalls, sgd_thresholds = sklearn.metrics.precision_recall_curve(y, y_sgd_threshold)"
   ]
  },
  {
   "cell_type": "code",
   "execution_count": 31,
   "id": "accurate-perspective",
   "metadata": {},
   "outputs": [
    {
     "data": {
      "image/png": "[encoded data removed]",
      "text/plain": [
       "<Figure size 432x288 with 1 Axes>"
      ]
     },
     "metadata": {
      "needs_background": "light"
     },
     "output_type": "display_data"
    }
   ],
   "source": [
    "def plot_precision_recall_vs_threshold(precisions, recalls, thresholds, title):\n",
    "    plt.plot(thresholds, precisions[:-1], \"b--\", label=\"Precision\")\n",
    "    plt.plot(thresholds, recalls[:-1], \"g-\", label=\"Recall\")\n",
    "    plt.xlabel(\"Threshold\")\n",
    "    plt.title(title+\" (Precision-Recall curve)\")\n",
    "    plt.legend() # highlight the threshold and add the legend, axis label, and grid\n",
    "\n",
    "plot_precision_recall_vs_threshold(sgd_precisions, sgd_recalls, sgd_thresholds, \"Stochastic Gradient Classifier\")\n",
    "plt.show()"
   ]
  },
  {
   "cell_type": "markdown",
   "id": "pacific-providence",
   "metadata": {},
   "source": [
    "We observe that changing the threshold value doesn't has any effect on the "
   ]
  },
  {
   "cell_type": "markdown",
   "id": "undefined-burner",
   "metadata": {},
   "source": [
    "## Logistic regression"
   ]
  },
  {
   "cell_type": "code",
   "execution_count": 32,
   "id": "loaded-bracket",
   "metadata": {},
   "outputs": [],
   "source": [
    "# del lr_clf\n",
    "del Dataset"
   ]
  },
  {
   "cell_type": "code",
   "execution_count": 33,
   "id": "decimal-words",
   "metadata": {},
   "outputs": [
    {
     "data": {
      "text/plain": [
       "LogisticRegression(max_iter=350, random_state=0)"
      ]
     },
     "execution_count": 33,
     "metadata": {},
     "output_type": "execute_result"
    }
   ],
   "source": [
    "lr_clf=lm.LogisticRegression(max_iter=350,random_state=0)\n",
    "lr_clf.fit(X,y)"
   ]
  },
  {
   "cell_type": "code",
   "execution_count": 34,
   "id": "inside-reform",
   "metadata": {
    "scrolled": true
   },
   "outputs": [
    {
     "name": "stdout",
     "output_type": "stream",
     "text": [
      "0.9992494963725658\n"
     ]
    },
    {
     "name": "stderr",
     "output_type": "stream",
     "text": [
      "/home/nitin/miniconda3/lib/python3.8/site-packages/sklearn/linear_model/_logistic.py:763: ConvergenceWarning: lbfgs failed to converge (status=1):\n",
      "STOP: TOTAL NO. of ITERATIONS REACHED LIMIT.\n",
      "\n",
      "Increase the number of iterations (max_iter) or scale the data as shown in:\n",
      "    https://scikit-learn.org/stable/modules/preprocessing.html\n",
      "Please also refer to the documentation for alternative solver options:\n",
      "    https://scikit-learn.org/stable/modules/linear_model.html#logistic-regression\n",
      "  n_iter_i = _check_optimize_result(\n"
     ]
    },
    {
     "name": "stdout",
     "output_type": "stream",
     "text": [
      "0.9991309843577184\n",
      "0.9991968188760731\n"
     ]
    }
   ],
   "source": [
    "skfolds = sklearn.model_selection.StratifiedKFold(n_splits=3)\n",
    "for train_index, test_index in skfolds.split(X, y):\n",
    "    lr_clone_clf = clone(lr_clf)\n",
    "    \n",
    "    X_train_folds = X.iloc[train_index,:]\n",
    "    y_train_folds = y.iloc[train_index]\n",
    "    X_test_fold = X.iloc[test_index,:]\n",
    "    y_test_fold = y.iloc[test_index]\n",
    "    \n",
    "    lr_clone_clf.fit(X_train_folds, y_train_folds)\n",
    "    y_pred = lr_clone_clf.predict(X_test_fold)\n",
    "    n_correct = sum(y_pred == y_test_fold)\n",
    "    print(n_correct / len(y_pred))"
   ]
  },
  {
   "cell_type": "code",
   "execution_count": 35,
   "id": "returning-nightmare",
   "metadata": {},
   "outputs": [
    {
     "name": "stderr",
     "output_type": "stream",
     "text": [
      "/home/nitin/miniconda3/lib/python3.8/site-packages/sklearn/linear_model/_logistic.py:763: ConvergenceWarning: lbfgs failed to converge (status=1):\n",
      "STOP: TOTAL NO. of ITERATIONS REACHED LIMIT.\n",
      "\n",
      "Increase the number of iterations (max_iter) or scale the data as shown in:\n",
      "    https://scikit-learn.org/stable/modules/preprocessing.html\n",
      "Please also refer to the documentation for alternative solver options:\n",
      "    https://scikit-learn.org/stable/modules/linear_model.html#logistic-regression\n",
      "  n_iter_i = _check_optimize_result(\n"
     ]
    }
   ],
   "source": [
    "y_predict_lr=cross_val_predict(lr_clf, X, y, cv=3)"
   ]
  },
  {
   "cell_type": "code",
   "execution_count": 36,
   "id": "occupational-direction",
   "metadata": {},
   "outputs": [
    {
     "data": {
      "text/plain": [
       "array([[227404,     44],\n",
       "       [   140,    257]])"
      ]
     },
     "execution_count": 36,
     "metadata": {},
     "output_type": "execute_result"
    }
   ],
   "source": [
    "sklearn.metrics.confusion_matrix(y,y_predict_lr)"
   ]
  },
  {
   "cell_type": "code",
   "execution_count": 37,
   "id": "viral-profile",
   "metadata": {},
   "outputs": [
    {
     "data": {
      "text/plain": [
       "[0.8538205980066446, 0.6473551637279596, 0.7363896848137536]"
      ]
     },
     "execution_count": 37,
     "metadata": {},
     "output_type": "execute_result"
    }
   ],
   "source": [
    "[sklearn.metrics.precision_score(y, y_predict_lr),\n",
    "sklearn.metrics.recall_score(y, y_predict_lr),\n",
    "sklearn.metrics.f1_score(y, y_predict_lr)]"
   ]
  },
  {
   "cell_type": "code",
   "execution_count": 38,
   "id": "medical-pasta",
   "metadata": {},
   "outputs": [
    {
     "name": "stderr",
     "output_type": "stream",
     "text": [
      "/home/nitin/miniconda3/lib/python3.8/site-packages/sklearn/linear_model/_logistic.py:763: ConvergenceWarning: lbfgs failed to converge (status=1):\n",
      "STOP: TOTAL NO. of ITERATIONS REACHED LIMIT.\n",
      "\n",
      "Increase the number of iterations (max_iter) or scale the data as shown in:\n",
      "    https://scikit-learn.org/stable/modules/preprocessing.html\n",
      "Please also refer to the documentation for alternative solver options:\n",
      "    https://scikit-learn.org/stable/modules/linear_model.html#logistic-regression\n",
      "  n_iter_i = _check_optimize_result(\n"
     ]
    }
   ],
   "source": [
    "y_lr_threshold = cross_val_predict(lr_clf, X, y, cv=3, method=\"decision_function\")\n",
    "lr_precisions, lr_recalls, lr_thresholds = sklearn.metrics.precision_recall_curve(y, y_lr_threshold)"
   ]
  },
  {
   "cell_type": "code",
   "execution_count": 39,
   "id": "welcome-patio",
   "metadata": {
    "scrolled": false
   },
   "outputs": [
    {
     "data": {
      "image/png": "[encoded data removed]",
      "text/plain": [
       "<Figure size 432x288 with 1 Axes>"
      ]
     },
     "metadata": {
      "needs_background": "light"
     },
     "output_type": "display_data"
    }
   ],
   "source": [
    "plot_precision_recall_vs_threshold(lr_precisions, lr_recalls, lr_thresholds, \"Logostic Regression\")\n",
    "plt.show()"
   ]
  },
  {
   "cell_type": "code",
   "execution_count": 40,
   "id": "external-essex",
   "metadata": {
    "scrolled": true
   },
   "outputs": [
    {
     "data": {
      "image/png": "[encoded data removed]",
      "text/plain": [
       "<Figure size 432x288 with 1 Axes>"
      ]
     },
     "metadata": {
      "needs_background": "light"
     },
     "output_type": "display_data"
    }
   ],
   "source": [
    "lr_fpr, lr_tpr, lr_thresholds = sklearn.metrics.roc_curve(y, y_lr_threshold)\n",
    "\n",
    "def plot_roc_curve(fpr, tpr, title, label=None):\n",
    "    plt.plot(fpr, tpr, linewidth=2, label=label)\n",
    "    plt.plot([0, 1], [0, 1], 'k--') # Dashed diagonal\n",
    "    plt.xlabel(\"False Positive Rate\")\n",
    "    plt.ylabel(\"True Positive Rate\")\n",
    "    plt.title(title+\" (ROC curve)\")\n",
    "    [...] # Add axis labels and grid\n",
    "\n",
    "plot_roc_curve(lr_fpr, lr_tpr, \"Logistic Regression\")\n",
    "plt.show()"
   ]
  },
  {
   "cell_type": "code",
   "execution_count": 41,
   "id": "plastic-warren",
   "metadata": {},
   "outputs": [
    {
     "data": {
      "text/plain": [
       "0.9426159643919386"
      ]
     },
     "execution_count": 41,
     "metadata": {},
     "output_type": "execute_result"
    }
   ],
   "source": [
    "sklearn.metrics.roc_auc_score(y, y_lr_threshold)"
   ]
  },
  {
   "cell_type": "markdown",
   "id": "sustainable-snake",
   "metadata": {},
   "source": [
    "# Conclusion"
   ]
  },
  {
   "cell_type": "markdown",
   "id": "stone-account",
   "metadata": {},
   "source": [
    "The SGD Classifier doesn't works well for our given data, while Logistic Regression turns out to be a decent classifier."
   ]
  },
  {
   "cell_type": "markdown",
   "id": "rubber-ticket",
   "metadata": {},
   "source": [
    "# Future Work"
   ]
  },
  {
   "cell_type": "markdown",
   "id": "distant-likelihood",
   "metadata": {},
   "source": [
    "In the next version we shall use other classification models like SVM and Neural Networks and shall evaluate their performance based on difference performance metris like specificity, ROC etc. "
   ]
  }
 ],
 "metadata": {
  "kernelspec": {
   "display_name": "Python 3",
   "language": "python",
   "name": "python3"
  },
  "language_info": {
   "codemirror_mode": {
    "name": "ipython",
    "version": 3
   },
   "file_extension": ".py",
   "mimetype": "text/x-python",
   "name": "python",
   "nbconvert_exporter": "python",
   "pygments_lexer": "ipython3",
   "version": "3.8.2"
  },
  "latex_envs": {
   "LaTeX_envs_menu_present": true,
   "autoclose": false,
   "autocomplete": true,
   "bibliofile": "biblio.bib",
   "cite_by": "apalike",
   "current_citInitial": 1,
   "eqLabelWithNumbers": true,
   "eqNumInitial": 1,
   "hotkeys": {
    "equation": "Ctrl-E",
    "itemize": "Ctrl-I"
   },
   "labels_anchors": false,
   "latex_user_defs": false,
   "report_style_numbering": false,
   "user_envs_cfg": false
  }
 },
 "nbformat": 4,
 "nbformat_minor": 5
}
