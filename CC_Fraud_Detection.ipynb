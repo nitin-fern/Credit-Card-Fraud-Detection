{
 "cells": [
  {
   "cell_type": "markdown",
   "id": "automotive-miller",
   "metadata": {},
   "source": [
    "# Data Description"
   ]
  },
  {
   "cell_type": "markdown",
   "id": "passive-experience",
   "metadata": {},
   "source": [
    "We shall use [this](https://www.kaggle.com/mlg-ulb/creditcardfraud) data from Kaggle. The dataset contains transactions made by credit cards in September 2013 by European cardholders. This dataset presents transactions that occurred in two days, where we have 492 frauds out of 284,807 transactions. The dataset is highly unbalanced, the positive class (frauds) account for 0.172% of all transactions.\n",
    "\n",
    "It contains only numerical input variables which are the result of a PCA transformation. \n",
    "Unfortunately, due to confidentiality issues, we cannot provide the original features and more background information about the data. Features `V1, V2, … V28` are the principal components obtained with PCA, the only features which have not been transformed with PCA are 'Time' and 'Amount'. Feature 'Time' contains the seconds elapsed between each transaction and the first transaction in the dataset. The feature `Amount` is the transaction Amount, this feature can be used for example-dependant cost-sensitive learning. The variable `Class` is the response variable and it takes value 1 in case of fraud and 0 otherwise.\n",
    "\n"
   ]
  },
  {
   "cell_type": "markdown",
   "id": "G5iYeXdGJnwx",
   "metadata": {
    "id": "G5iYeXdGJnwx"
   },
   "source": [
    "# Downloading Data from Kaggle\n",
    "\n",
    "- Go to Kaggle's `Accounts` section.\n",
    "- Delete all pre-existing token if any by clicking on `Expire API Token`.\n",
    "- Create a new API token by clicking on `Create New API Token`.\n",
    "- A json file with username and key will be downloaded in the machine.\n",
    "- Finally upload the json file with the filename `kaggle.json`."
   ]
  },
  {
   "cell_type": "code",
   "execution_count": 2,
   "id": "1n9LbeaRCmEM",
   "metadata": {
    "colab": {
     "base_uri": "https://localhost:8080/",
     "height": 90,
     "resources": {
      "http://localhost:8080/nbextensions/google.colab/files.js": {
       "data": "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",
       "headers": [
        [
         "content-type",
         "application/javascript"
        ]
       ],
       "ok": true,
       "status": 200,
       "status_text": ""
      }
     }
    },
    "id": "1n9LbeaRCmEM",
    "outputId": "3504c04a-2a49-4a9f-ed76-d734198ef026"
   },
   "outputs": [
    {
     "data": {
      "text/html": [
       "\n",
       "     <input type=\"file\" id=\"files-ffc78a38-413d-4293-98eb-118abcce4a6f\" name=\"files[]\" multiple disabled\n",
       "        style=\"border:none\" />\n",
       "     <output id=\"result-ffc78a38-413d-4293-98eb-118abcce4a6f\">\n",
       "      Upload widget is only available when the cell has been executed in the\n",
       "      current browser session. Please rerun this cell to enable.\n",
       "      </output>\n",
       "      <script src=\"/nbextensions/google.colab/files.js\"></script> "
      ],
      "text/plain": [
       "<IPython.core.display.HTML object>"
      ]
     },
     "metadata": {},
     "output_type": "display_data"
    },
    {
     "name": "stdout",
     "output_type": "stream",
     "text": [
      "Saving kaggle.json to kaggle.json\n"
     ]
    },
    {
     "data": {
      "text/plain": [
       "{'kaggle.json': b'{\"username\":\"nitinprasad\",\"key\":\"8c912c4512f1b09454b576eda05b686e\"}'}"
      ]
     },
     "execution_count": 2,
     "metadata": {},
     "output_type": "execute_result"
    }
   ],
   "source": [
    "!pip install kaggle\n",
    "\n",
    "from google.colab import files\n",
    "files.upload()"
   ]
  },
  {
   "cell_type": "code",
   "execution_count": 3,
   "id": "7v3WhrGAEX-f",
   "metadata": {
    "id": "7v3WhrGAEX-f"
   },
   "outputs": [],
   "source": [
    "!mkdir -p ~/.kaggle\n",
    "!cp kaggle.json ~/.kaggle/\n",
    "!chmod 600 ~/.kaggle/kaggle.json"
   ]
  },
  {
   "cell_type": "code",
   "execution_count": 4,
   "id": "Z8gZg3UQFN4Y",
   "metadata": {
    "colab": {
     "base_uri": "https://localhost:8080/"
    },
    "id": "Z8gZg3UQFN4Y",
    "outputId": "7371efc9-0366-4365-c508-2b584d5c17b1"
   },
   "outputs": [
    {
     "name": "stdout",
     "output_type": "stream",
     "text": [
      "Downloading creditcardfraud.zip to /content\n",
      " 92% 61.0M/66.0M [00:00<00:00, 57.8MB/s]\n",
      "100% 66.0M/66.0M [00:00<00:00, 79.5MB/s]\n"
     ]
    }
   ],
   "source": [
    "!kaggle datasets download -d mlg-ulb/creditcardfraud"
   ]
  },
  {
   "cell_type": "code",
   "execution_count": 5,
   "id": "2ndrOrX4FN7d",
   "metadata": {
    "colab": {
     "base_uri": "https://localhost:8080/"
    },
    "id": "2ndrOrX4FN7d",
    "outputId": "f8e5971b-7b20-42dd-c756-9494d9787891"
   },
   "outputs": [
    {
     "name": "stdout",
     "output_type": "stream",
     "text": [
      "creditcardfraud.zip  kaggle.json  sample_data\n"
     ]
    }
   ],
   "source": [
    "!ls"
   ]
  },
  {
   "cell_type": "code",
   "execution_count": 6,
   "id": "EIjd1LFMFmBb",
   "metadata": {
    "id": "EIjd1LFMFmBb"
   },
   "outputs": [],
   "source": [
    "import zipfile\n",
    "zip_ref = zipfile.ZipFile(\"creditcardfraud.zip\")\n",
    "zip_ref.extractall()\n",
    "zip_ref.close()\n"
   ]
  },
  {
   "cell_type": "code",
   "execution_count": 7,
   "id": "3JxNpfbGJ9F-",
   "metadata": {
    "id": "3JxNpfbGJ9F-"
   },
   "outputs": [],
   "source": [
    "rm \"creditcardfraud.zip\""
   ]
  },
  {
   "cell_type": "markdown",
   "id": "415e1119-9d1b-43e6-9586-8b94005a0e40",
   "metadata": {
    "id": "415e1119-9d1b-43e6-9586-8b94005a0e40"
   },
   "source": [
    "# Loading Packages"
   ]
  },
  {
   "cell_type": "code",
   "execution_count": 8,
   "id": "de3015b4-8e3b-482a-a60a-fe2c50756121",
   "metadata": {
    "id": "de3015b4-8e3b-482a-a60a-fe2c50756121"
   },
   "outputs": [],
   "source": [
    "# Loading common libraries for data manipulation\n",
    "\n",
    "import numpy as np\n",
    "import pandas as pd\n",
    "import matplotlib.pyplot as plt"
   ]
  },
  {
   "cell_type": "markdown",
   "id": "brazilian-substance",
   "metadata": {
    "id": "brazilian-substance"
   },
   "source": [
    "# Loading Dataset"
   ]
  },
  {
   "cell_type": "code",
   "execution_count": 9,
   "id": "informational-blind",
   "metadata": {
    "id": "informational-blind"
   },
   "outputs": [],
   "source": [
    "Dataset_path=\"creditcard.csv\""
   ]
  },
  {
   "cell_type": "code",
   "execution_count": 10,
   "id": "630c1deb-3771-4c61-ac4d-22032152e250",
   "metadata": {
    "id": "630c1deb-3771-4c61-ac4d-22032152e250"
   },
   "outputs": [],
   "source": [
    "Dataset=pd.read_csv(Dataset_path)"
   ]
  },
  {
   "cell_type": "code",
   "execution_count": 11,
   "id": "advisory-invite",
   "metadata": {
    "colab": {
     "base_uri": "https://localhost:8080/"
    },
    "id": "advisory-invite",
    "outputId": "dddb7378-c53d-4ae4-fc96-9e5c581df621"
   },
   "outputs": [
    {
     "name": "stdout",
     "output_type": "stream",
     "text": [
      "<class 'pandas.core.frame.DataFrame'>\n",
      "RangeIndex: 284807 entries, 0 to 284806\n",
      "Data columns (total 31 columns):\n",
      " #   Column  Non-Null Count   Dtype  \n",
      "---  ------  --------------   -----  \n",
      " 0   Time    284807 non-null  float64\n",
      " 1   V1      284807 non-null  float64\n",
      " 2   V2      284807 non-null  float64\n",
      " 3   V3      284807 non-null  float64\n",
      " 4   V4      284807 non-null  float64\n",
      " 5   V5      284807 non-null  float64\n",
      " 6   V6      284807 non-null  float64\n",
      " 7   V7      284807 non-null  float64\n",
      " 8   V8      284807 non-null  float64\n",
      " 9   V9      284807 non-null  float64\n",
      " 10  V10     284807 non-null  float64\n",
      " 11  V11     284807 non-null  float64\n",
      " 12  V12     284807 non-null  float64\n",
      " 13  V13     284807 non-null  float64\n",
      " 14  V14     284807 non-null  float64\n",
      " 15  V15     284807 non-null  float64\n",
      " 16  V16     284807 non-null  float64\n",
      " 17  V17     284807 non-null  float64\n",
      " 18  V18     284807 non-null  float64\n",
      " 19  V19     284807 non-null  float64\n",
      " 20  V20     284807 non-null  float64\n",
      " 21  V21     284807 non-null  float64\n",
      " 22  V22     284807 non-null  float64\n",
      " 23  V23     284807 non-null  float64\n",
      " 24  V24     284807 non-null  float64\n",
      " 25  V25     284807 non-null  float64\n",
      " 26  V26     284807 non-null  float64\n",
      " 27  V27     284807 non-null  float64\n",
      " 28  V28     284807 non-null  float64\n",
      " 29  Amount  284807 non-null  float64\n",
      " 30  Class   284807 non-null  int64  \n",
      "dtypes: float64(30), int64(1)\n",
      "memory usage: 67.4 MB\n"
     ]
    }
   ],
   "source": [
    "Dataset.info()"
   ]
  },
  {
   "cell_type": "code",
   "execution_count": 12,
   "id": "prepared-traveler",
   "metadata": {
    "colab": {
     "base_uri": "https://localhost:8080/",
     "height": 364
    },
    "id": "prepared-traveler",
    "outputId": "30627182-ba69-4aef-8c16-ea61fe1ab4b3"
   },
   "outputs": [
    {
     "data": {
      "text/html": [
       "\n",
       "  <div id=\"df-e0f62399-d2ae-47ee-b0e0-befb0f95e573\">\n",
       "    <div class=\"colab-df-container\">\n",
       "      <div>\n",
       "<style scoped>\n",
       "    .dataframe tbody tr th:only-of-type {\n",
       "        vertical-align: middle;\n",
       "    }\n",
       "\n",
       "    .dataframe tbody tr th {\n",
       "        vertical-align: top;\n",
       "    }\n",
       "\n",
       "    .dataframe thead th {\n",
       "        text-align: right;\n",
       "    }\n",
       "</style>\n",
       "<table border=\"1\" class=\"dataframe\">\n",
       "  <thead>\n",
       "    <tr style=\"text-align: right;\">\n",
       "      <th></th>\n",
       "      <th>Time</th>\n",
       "      <th>V1</th>\n",
       "      <th>V2</th>\n",
       "      <th>V3</th>\n",
       "      <th>V4</th>\n",
       "      <th>V5</th>\n",
       "      <th>V6</th>\n",
       "      <th>V7</th>\n",
       "      <th>V8</th>\n",
       "      <th>V9</th>\n",
       "      <th>V10</th>\n",
       "      <th>V11</th>\n",
       "      <th>V12</th>\n",
       "      <th>V13</th>\n",
       "      <th>V14</th>\n",
       "      <th>V15</th>\n",
       "      <th>V16</th>\n",
       "      <th>V17</th>\n",
       "      <th>V18</th>\n",
       "      <th>V19</th>\n",
       "      <th>V20</th>\n",
       "      <th>V21</th>\n",
       "      <th>V22</th>\n",
       "      <th>V23</th>\n",
       "      <th>V24</th>\n",
       "      <th>V25</th>\n",
       "      <th>V26</th>\n",
       "      <th>V27</th>\n",
       "      <th>V28</th>\n",
       "      <th>Amount</th>\n",
       "      <th>Class</th>\n",
       "    </tr>\n",
       "  </thead>\n",
       "  <tbody>\n",
       "    <tr>\n",
       "      <th>count</th>\n",
       "      <td>284807.000000</td>\n",
       "      <td>2.848070e+05</td>\n",
       "      <td>2.848070e+05</td>\n",
       "      <td>2.848070e+05</td>\n",
       "      <td>2.848070e+05</td>\n",
       "      <td>2.848070e+05</td>\n",
       "      <td>2.848070e+05</td>\n",
       "      <td>2.848070e+05</td>\n",
       "      <td>2.848070e+05</td>\n",
       "      <td>2.848070e+05</td>\n",
       "      <td>2.848070e+05</td>\n",
       "      <td>2.848070e+05</td>\n",
       "      <td>2.848070e+05</td>\n",
       "      <td>2.848070e+05</td>\n",
       "      <td>2.848070e+05</td>\n",
       "      <td>2.848070e+05</td>\n",
       "      <td>2.848070e+05</td>\n",
       "      <td>2.848070e+05</td>\n",
       "      <td>2.848070e+05</td>\n",
       "      <td>2.848070e+05</td>\n",
       "      <td>2.848070e+05</td>\n",
       "      <td>2.848070e+05</td>\n",
       "      <td>2.848070e+05</td>\n",
       "      <td>2.848070e+05</td>\n",
       "      <td>2.848070e+05</td>\n",
       "      <td>2.848070e+05</td>\n",
       "      <td>2.848070e+05</td>\n",
       "      <td>2.848070e+05</td>\n",
       "      <td>2.848070e+05</td>\n",
       "      <td>284807.000000</td>\n",
       "      <td>284807.000000</td>\n",
       "    </tr>\n",
       "    <tr>\n",
       "      <th>mean</th>\n",
       "      <td>94813.859575</td>\n",
       "      <td>3.918649e-15</td>\n",
       "      <td>5.682686e-16</td>\n",
       "      <td>-8.761736e-15</td>\n",
       "      <td>2.811118e-15</td>\n",
       "      <td>-1.552103e-15</td>\n",
       "      <td>2.040130e-15</td>\n",
       "      <td>-1.698953e-15</td>\n",
       "      <td>-1.893285e-16</td>\n",
       "      <td>-3.147640e-15</td>\n",
       "      <td>1.772925e-15</td>\n",
       "      <td>9.289524e-16</td>\n",
       "      <td>-1.803266e-15</td>\n",
       "      <td>1.674888e-15</td>\n",
       "      <td>1.475621e-15</td>\n",
       "      <td>3.501098e-15</td>\n",
       "      <td>1.392460e-15</td>\n",
       "      <td>-7.466538e-16</td>\n",
       "      <td>4.258754e-16</td>\n",
       "      <td>9.019919e-16</td>\n",
       "      <td>5.126845e-16</td>\n",
       "      <td>1.473120e-16</td>\n",
       "      <td>8.042109e-16</td>\n",
       "      <td>5.282512e-16</td>\n",
       "      <td>4.456271e-15</td>\n",
       "      <td>1.426896e-15</td>\n",
       "      <td>1.701640e-15</td>\n",
       "      <td>-3.662252e-16</td>\n",
       "      <td>-1.217809e-16</td>\n",
       "      <td>88.349619</td>\n",
       "      <td>0.001727</td>\n",
       "    </tr>\n",
       "    <tr>\n",
       "      <th>std</th>\n",
       "      <td>47488.145955</td>\n",
       "      <td>1.958696e+00</td>\n",
       "      <td>1.651309e+00</td>\n",
       "      <td>1.516255e+00</td>\n",
       "      <td>1.415869e+00</td>\n",
       "      <td>1.380247e+00</td>\n",
       "      <td>1.332271e+00</td>\n",
       "      <td>1.237094e+00</td>\n",
       "      <td>1.194353e+00</td>\n",
       "      <td>1.098632e+00</td>\n",
       "      <td>1.088850e+00</td>\n",
       "      <td>1.020713e+00</td>\n",
       "      <td>9.992014e-01</td>\n",
       "      <td>9.952742e-01</td>\n",
       "      <td>9.585956e-01</td>\n",
       "      <td>9.153160e-01</td>\n",
       "      <td>8.762529e-01</td>\n",
       "      <td>8.493371e-01</td>\n",
       "      <td>8.381762e-01</td>\n",
       "      <td>8.140405e-01</td>\n",
       "      <td>7.709250e-01</td>\n",
       "      <td>7.345240e-01</td>\n",
       "      <td>7.257016e-01</td>\n",
       "      <td>6.244603e-01</td>\n",
       "      <td>6.056471e-01</td>\n",
       "      <td>5.212781e-01</td>\n",
       "      <td>4.822270e-01</td>\n",
       "      <td>4.036325e-01</td>\n",
       "      <td>3.300833e-01</td>\n",
       "      <td>250.120109</td>\n",
       "      <td>0.041527</td>\n",
       "    </tr>\n",
       "    <tr>\n",
       "      <th>min</th>\n",
       "      <td>0.000000</td>\n",
       "      <td>-5.640751e+01</td>\n",
       "      <td>-7.271573e+01</td>\n",
       "      <td>-4.832559e+01</td>\n",
       "      <td>-5.683171e+00</td>\n",
       "      <td>-1.137433e+02</td>\n",
       "      <td>-2.616051e+01</td>\n",
       "      <td>-4.355724e+01</td>\n",
       "      <td>-7.321672e+01</td>\n",
       "      <td>-1.343407e+01</td>\n",
       "      <td>-2.458826e+01</td>\n",
       "      <td>-4.797473e+00</td>\n",
       "      <td>-1.868371e+01</td>\n",
       "      <td>-5.791881e+00</td>\n",
       "      <td>-1.921433e+01</td>\n",
       "      <td>-4.498945e+00</td>\n",
       "      <td>-1.412985e+01</td>\n",
       "      <td>-2.516280e+01</td>\n",
       "      <td>-9.498746e+00</td>\n",
       "      <td>-7.213527e+00</td>\n",
       "      <td>-5.449772e+01</td>\n",
       "      <td>-3.483038e+01</td>\n",
       "      <td>-1.093314e+01</td>\n",
       "      <td>-4.480774e+01</td>\n",
       "      <td>-2.836627e+00</td>\n",
       "      <td>-1.029540e+01</td>\n",
       "      <td>-2.604551e+00</td>\n",
       "      <td>-2.256568e+01</td>\n",
       "      <td>-1.543008e+01</td>\n",
       "      <td>0.000000</td>\n",
       "      <td>0.000000</td>\n",
       "    </tr>\n",
       "    <tr>\n",
       "      <th>25%</th>\n",
       "      <td>54201.500000</td>\n",
       "      <td>-9.203734e-01</td>\n",
       "      <td>-5.985499e-01</td>\n",
       "      <td>-8.903648e-01</td>\n",
       "      <td>-8.486401e-01</td>\n",
       "      <td>-6.915971e-01</td>\n",
       "      <td>-7.682956e-01</td>\n",
       "      <td>-5.540759e-01</td>\n",
       "      <td>-2.086297e-01</td>\n",
       "      <td>-6.430976e-01</td>\n",
       "      <td>-5.354257e-01</td>\n",
       "      <td>-7.624942e-01</td>\n",
       "      <td>-4.055715e-01</td>\n",
       "      <td>-6.485393e-01</td>\n",
       "      <td>-4.255740e-01</td>\n",
       "      <td>-5.828843e-01</td>\n",
       "      <td>-4.680368e-01</td>\n",
       "      <td>-4.837483e-01</td>\n",
       "      <td>-4.988498e-01</td>\n",
       "      <td>-4.562989e-01</td>\n",
       "      <td>-2.117214e-01</td>\n",
       "      <td>-2.283949e-01</td>\n",
       "      <td>-5.423504e-01</td>\n",
       "      <td>-1.618463e-01</td>\n",
       "      <td>-3.545861e-01</td>\n",
       "      <td>-3.171451e-01</td>\n",
       "      <td>-3.269839e-01</td>\n",
       "      <td>-7.083953e-02</td>\n",
       "      <td>-5.295979e-02</td>\n",
       "      <td>5.600000</td>\n",
       "      <td>0.000000</td>\n",
       "    </tr>\n",
       "    <tr>\n",
       "      <th>50%</th>\n",
       "      <td>84692.000000</td>\n",
       "      <td>1.810880e-02</td>\n",
       "      <td>6.548556e-02</td>\n",
       "      <td>1.798463e-01</td>\n",
       "      <td>-1.984653e-02</td>\n",
       "      <td>-5.433583e-02</td>\n",
       "      <td>-2.741871e-01</td>\n",
       "      <td>4.010308e-02</td>\n",
       "      <td>2.235804e-02</td>\n",
       "      <td>-5.142873e-02</td>\n",
       "      <td>-9.291738e-02</td>\n",
       "      <td>-3.275735e-02</td>\n",
       "      <td>1.400326e-01</td>\n",
       "      <td>-1.356806e-02</td>\n",
       "      <td>5.060132e-02</td>\n",
       "      <td>4.807155e-02</td>\n",
       "      <td>6.641332e-02</td>\n",
       "      <td>-6.567575e-02</td>\n",
       "      <td>-3.636312e-03</td>\n",
       "      <td>3.734823e-03</td>\n",
       "      <td>-6.248109e-02</td>\n",
       "      <td>-2.945017e-02</td>\n",
       "      <td>6.781943e-03</td>\n",
       "      <td>-1.119293e-02</td>\n",
       "      <td>4.097606e-02</td>\n",
       "      <td>1.659350e-02</td>\n",
       "      <td>-5.213911e-02</td>\n",
       "      <td>1.342146e-03</td>\n",
       "      <td>1.124383e-02</td>\n",
       "      <td>22.000000</td>\n",
       "      <td>0.000000</td>\n",
       "    </tr>\n",
       "    <tr>\n",
       "      <th>75%</th>\n",
       "      <td>139320.500000</td>\n",
       "      <td>1.315642e+00</td>\n",
       "      <td>8.037239e-01</td>\n",
       "      <td>1.027196e+00</td>\n",
       "      <td>7.433413e-01</td>\n",
       "      <td>6.119264e-01</td>\n",
       "      <td>3.985649e-01</td>\n",
       "      <td>5.704361e-01</td>\n",
       "      <td>3.273459e-01</td>\n",
       "      <td>5.971390e-01</td>\n",
       "      <td>4.539234e-01</td>\n",
       "      <td>7.395934e-01</td>\n",
       "      <td>6.182380e-01</td>\n",
       "      <td>6.625050e-01</td>\n",
       "      <td>4.931498e-01</td>\n",
       "      <td>6.488208e-01</td>\n",
       "      <td>5.232963e-01</td>\n",
       "      <td>3.996750e-01</td>\n",
       "      <td>5.008067e-01</td>\n",
       "      <td>4.589494e-01</td>\n",
       "      <td>1.330408e-01</td>\n",
       "      <td>1.863772e-01</td>\n",
       "      <td>5.285536e-01</td>\n",
       "      <td>1.476421e-01</td>\n",
       "      <td>4.395266e-01</td>\n",
       "      <td>3.507156e-01</td>\n",
       "      <td>2.409522e-01</td>\n",
       "      <td>9.104512e-02</td>\n",
       "      <td>7.827995e-02</td>\n",
       "      <td>77.165000</td>\n",
       "      <td>0.000000</td>\n",
       "    </tr>\n",
       "    <tr>\n",
       "      <th>max</th>\n",
       "      <td>172792.000000</td>\n",
       "      <td>2.454930e+00</td>\n",
       "      <td>2.205773e+01</td>\n",
       "      <td>9.382558e+00</td>\n",
       "      <td>1.687534e+01</td>\n",
       "      <td>3.480167e+01</td>\n",
       "      <td>7.330163e+01</td>\n",
       "      <td>1.205895e+02</td>\n",
       "      <td>2.000721e+01</td>\n",
       "      <td>1.559499e+01</td>\n",
       "      <td>2.374514e+01</td>\n",
       "      <td>1.201891e+01</td>\n",
       "      <td>7.848392e+00</td>\n",
       "      <td>7.126883e+00</td>\n",
       "      <td>1.052677e+01</td>\n",
       "      <td>8.877742e+00</td>\n",
       "      <td>1.731511e+01</td>\n",
       "      <td>9.253526e+00</td>\n",
       "      <td>5.041069e+00</td>\n",
       "      <td>5.591971e+00</td>\n",
       "      <td>3.942090e+01</td>\n",
       "      <td>2.720284e+01</td>\n",
       "      <td>1.050309e+01</td>\n",
       "      <td>2.252841e+01</td>\n",
       "      <td>4.584549e+00</td>\n",
       "      <td>7.519589e+00</td>\n",
       "      <td>3.517346e+00</td>\n",
       "      <td>3.161220e+01</td>\n",
       "      <td>3.384781e+01</td>\n",
       "      <td>25691.160000</td>\n",
       "      <td>1.000000</td>\n",
       "    </tr>\n",
       "  </tbody>\n",
       "</table>\n",
       "</div>\n",
       "      <button class=\"colab-df-convert\" onclick=\"convertToInteractive('df-e0f62399-d2ae-47ee-b0e0-befb0f95e573')\"\n",
       "              title=\"Convert this dataframe to an interactive table.\"\n",
       "              style=\"display:none;\">\n",
       "        \n",
       "  <svg xmlns=\"http://www.w3.org/2000/svg\" height=\"24px\"viewBox=\"0 0 24 24\"\n",
       "       width=\"24px\">\n",
       "    <path d=\"M0 0h24v24H0V0z\" fill=\"none\"/>\n",
       "    <path d=\"M18.56 5.44l.94 2.06.94-2.06 2.06-.94-2.06-.94-.94-2.06-.94 2.06-2.06.94zm-11 1L8.5 8.5l.94-2.06 2.06-.94-2.06-.94L8.5 2.5l-.94 2.06-2.06.94zm10 10l.94 2.06.94-2.06 2.06-.94-2.06-.94-.94-2.06-.94 2.06-2.06.94z\"/><path d=\"M17.41 7.96l-1.37-1.37c-.4-.4-.92-.59-1.43-.59-.52 0-1.04.2-1.43.59L10.3 9.45l-7.72 7.72c-.78.78-.78 2.05 0 2.83L4 21.41c.39.39.9.59 1.41.59.51 0 1.02-.2 1.41-.59l7.78-7.78 2.81-2.81c.8-.78.8-2.07 0-2.86zM5.41 20L4 18.59l7.72-7.72 1.47 1.35L5.41 20z\"/>\n",
       "  </svg>\n",
       "      </button>\n",
       "      \n",
       "  <style>\n",
       "    .colab-df-container {\n",
       "      display:flex;\n",
       "      flex-wrap:wrap;\n",
       "      gap: 12px;\n",
       "    }\n",
       "\n",
       "    .colab-df-convert {\n",
       "      background-color: #E8F0FE;\n",
       "      border: none;\n",
       "      border-radius: 50%;\n",
       "      cursor: pointer;\n",
       "      display: none;\n",
       "      fill: #1967D2;\n",
       "      height: 32px;\n",
       "      padding: 0 0 0 0;\n",
       "      width: 32px;\n",
       "    }\n",
       "\n",
       "    .colab-df-convert:hover {\n",
       "      background-color: #E2EBFA;\n",
       "      box-shadow: 0px 1px 2px rgba(60, 64, 67, 0.3), 0px 1px 3px 1px rgba(60, 64, 67, 0.15);\n",
       "      fill: #174EA6;\n",
       "    }\n",
       "\n",
       "    [theme=dark] .colab-df-convert {\n",
       "      background-color: #3B4455;\n",
       "      fill: #D2E3FC;\n",
       "    }\n",
       "\n",
       "    [theme=dark] .colab-df-convert:hover {\n",
       "      background-color: #434B5C;\n",
       "      box-shadow: 0px 1px 3px 1px rgba(0, 0, 0, 0.15);\n",
       "      filter: drop-shadow(0px 1px 2px rgba(0, 0, 0, 0.3));\n",
       "      fill: #FFFFFF;\n",
       "    }\n",
       "  </style>\n",
       "\n",
       "      <script>\n",
       "        const buttonEl =\n",
       "          document.querySelector('#df-e0f62399-d2ae-47ee-b0e0-befb0f95e573 button.colab-df-convert');\n",
       "        buttonEl.style.display =\n",
       "          google.colab.kernel.accessAllowed ? 'block' : 'none';\n",
       "\n",
       "        async function convertToInteractive(key) {\n",
       "          const element = document.querySelector('#df-e0f62399-d2ae-47ee-b0e0-befb0f95e573');\n",
       "          const dataTable =\n",
       "            await google.colab.kernel.invokeFunction('convertToInteractive',\n",
       "                                                     [key], {});\n",
       "          if (!dataTable) return;\n",
       "\n",
       "          const docLinkHtml = 'Like what you see? Visit the ' +\n",
       "            '<a target=\"_blank\" href=https://colab.research.google.com/notebooks/data_table.ipynb>data table notebook</a>'\n",
       "            + ' to learn more about interactive tables.';\n",
       "          element.innerHTML = '';\n",
       "          dataTable['output_type'] = 'display_data';\n",
       "          await google.colab.output.renderOutput(dataTable, element);\n",
       "          const docLink = document.createElement('div');\n",
       "          docLink.innerHTML = docLinkHtml;\n",
       "          element.appendChild(docLink);\n",
       "        }\n",
       "      </script>\n",
       "    </div>\n",
       "  </div>\n",
       "  "
      ],
      "text/plain": [
       "                Time            V1  ...         Amount          Class\n",
       "count  284807.000000  2.848070e+05  ...  284807.000000  284807.000000\n",
       "mean    94813.859575  3.918649e-15  ...      88.349619       0.001727\n",
       "std     47488.145955  1.958696e+00  ...     250.120109       0.041527\n",
       "min         0.000000 -5.640751e+01  ...       0.000000       0.000000\n",
       "25%     54201.500000 -9.203734e-01  ...       5.600000       0.000000\n",
       "50%     84692.000000  1.810880e-02  ...      22.000000       0.000000\n",
       "75%    139320.500000  1.315642e+00  ...      77.165000       0.000000\n",
       "max    172792.000000  2.454930e+00  ...   25691.160000       1.000000\n",
       "\n",
       "[8 rows x 31 columns]"
      ]
     },
     "execution_count": 12,
     "metadata": {},
     "output_type": "execute_result"
    }
   ],
   "source": [
    "Dataset.describe()"
   ]
  },
  {
   "cell_type": "markdown",
   "id": "executed-turtle",
   "metadata": {
    "id": "executed-turtle"
   },
   "source": [
    "# Sampling and splitting Data"
   ]
  },
  {
   "cell_type": "markdown",
   "id": "stock-question",
   "metadata": {
    "id": "stock-question"
   },
   "source": [
    "We shall split the data into `Training_data` and `Test_data` using SRSWOR with $80\\%$ percent transactions in training data and $20\\%$ transactions in test data "
   ]
  },
  {
   "cell_type": "code",
   "execution_count": 13,
   "id": "further-character",
   "metadata": {
    "id": "further-character"
   },
   "outputs": [],
   "source": [
    "Training_data=Dataset.sample(random_state=2,n=int(Dataset.shape[0]*0.8))\n",
    "Training_index=sorted(Training_data.index.tolist())\n",
    "\n",
    "Test_index=set(list(range(1,Dataset.shape[0]+1))).difference(Training_index)\n",
    "Test_data=Dataset[Dataset.index.isin(Test_index)]"
   ]
  },
  {
   "cell_type": "code",
   "execution_count": 16,
   "id": "45d45330-c379-47dd-b4cb-33897f626b4d",
   "metadata": {
    "id": "45d45330-c379-47dd-b4cb-33897f626b4d",
    "scrolled": true
   },
   "outputs": [],
   "source": [
    "# Saving Training data and Test data in the disc.\n",
    "\n",
    "# Training_data.to_csv(\"Datasets/Training_data.csv\")\n",
    "# Test_data.to_csv(\"Datasets/Test_data.csv\")"
   ]
  },
  {
   "cell_type": "markdown",
   "id": "sonic-tennessee",
   "metadata": {
    "id": "sonic-tennessee"
   },
   "source": [
    "# Data Visualisation"
   ]
  },
  {
   "cell_type": "markdown",
   "id": "cloudy-twenty",
   "metadata": {
    "id": "cloudy-twenty"
   },
   "source": [
    "1. We shall plot, project the data points on few 2-D planes to gain more failiarity with the data points. Moreover we make a circle around every projected data point whose area is proportional to the transaction amount.\n",
    "2. We shall see at what time fraud transaction usually takes place."
   ]
  },
  {
   "cell_type": "code",
   "execution_count": 14,
   "id": "comprehensive-secretary",
   "metadata": {
    "colab": {
     "base_uri": "https://localhost:8080/",
     "height": 297
    },
    "id": "comprehensive-secretary",
    "outputId": "75c5bc1f-f2cb-44d4-9fcc-3773dd82e2cb"
   },
   "outputs": [
    {
     "data": {
      "image/png": "[encoded data removed]",
      "text/plain": [
       "<Figure size 432x288 with 2 Axes>"
      ]
     },
     "metadata": {
      "needs_background": "light"
     },
     "output_type": "display_data"
    }
   ],
   "source": [
    "fig, [ax1,ax2] = plt.subplots(1,2)\n",
    "ax1.scatter(Training_data[\"V1\"],Training_data[\"V2\"], c=Training_data[\"Class\"], s=Training_data[\"Amount\"], alpha=0.5)\n",
    "ax1.set_xlabel(\"V1\", fontsize=15)\n",
    "ax1.set_ylabel(\"V2\", fontsize=15)\n",
    "ax1.set_title('Plot')\n",
    "ax1.grid(True)\n",
    "\n",
    "ax2.scatter(Training_data[\"V3\"],Training_data[\"V4\"], c=Training_data[\"Class\"], s=Training_data[\"Amount\"], alpha=0.5)\n",
    "ax2.set_xlabel(\"V3\", fontsize=15)\n",
    "ax2.set_ylabel(\"V4\", fontsize=15)\n",
    "ax2.set_title('Plot')\n",
    "ax2.grid(True)\n",
    "\n",
    "fig.tight_layout()\n",
    "\n",
    "plt.show()"
   ]
  },
  {
   "cell_type": "code",
   "execution_count": 15,
   "id": "canadian-breeding",
   "metadata": {
    "colab": {
     "base_uri": "https://localhost:8080/",
     "height": 282
    },
    "id": "canadian-breeding",
    "outputId": "de64b18d-8bfd-4582-a67e-0fd5f63f6244",
    "scrolled": true
   },
   "outputs": [
    {
     "data": {
      "text/plain": [
       "[<matplotlib.lines.Line2D at 0x7f91c81eee50>]"
      ]
     },
     "execution_count": 15,
     "metadata": {},
     "output_type": "execute_result"
    },
    {
     "data": {
      "image/png": "[encoded data removed]",
      "text/plain": [
       "<Figure size 432x288 with 1 Axes>"
      ]
     },
     "metadata": {
      "needs_background": "light"
     },
     "output_type": "display_data"
    }
   ],
   "source": [
    "# Time of Frauds \n",
    "plt.plot(Dataset[\"Time\"],Dataset[\"Class\"])"
   ]
  },
  {
   "cell_type": "markdown",
   "id": "biological-metallic",
   "metadata": {
    "id": "biological-metallic"
   },
   "source": [
    "## Obervations\n",
    "\n",
    "1. In the first picture from the second plot, we observe that the fraud transactions are seperable using some non linear curves. Hence, algorithms like Logitic Regression, SVM classifier, Neural Network, Decision Trees can solve our problem.\n",
    "2. The transaction amount of fraud transactions are small. (Radius of yellow circles is small)\n",
    "3. From the second picture, it looks like there is no preferable time for fraud transactions."
   ]
  },
  {
   "cell_type": "markdown",
   "id": "competent-resort",
   "metadata": {
    "id": "competent-resort"
   },
   "source": [
    "# Classification metrics"
   ]
  },
  {
   "cell_type": "markdown",
   "id": "banner-indianapolis",
   "metadata": {
    "id": "banner-indianapolis"
   },
   "source": [
    "We will now use different classification models and train our model. To measure our model accuracy we shall consider the following performance metrics-\n",
    "1. **Confusion Matrix:** For a model with $n$ classes, the confusion matrix is an $n\\times n$ matrix whose $ij^{th}$ element contains numbers of instances of class $i$ classified as class $j$. For a perfect classifier the matrix will be a diagonal matrix. In our case we have only two classes, $0$ and $1$. We label $0$ as negative and $1$ as positive. Therefore, the confusion matrix takes the following form-\n",
    "\n",
    "| |Predicted Negative | Predicted Positive |\n",
    "|---|---|---|\n",
    "| Actual Negative | TN | FP |\n",
    "| Actual Positive | FN | TP |\n",
    "\n",
    "2. **Precision Score:** It is percentage of true positive instances among all positive predicted instances $=\\dfrac{TP}{\\text{Total Positive} }=\\dfrac{TP}{TP+FP}$\n",
    "3. **Recall:** It is the percentage of true true positive instances among actual positive instances $=\\dfrac{TP}{\\text{Actual positive instances} }=\\dfrac{TP}{TP+FN}$\n",
    "4. **F$_1$ Score:** It is the harmonic mean of precison and recall. Harmonic mean of two numbers in $[0,1]$ is high only if none of them is very close to zero. Hence, $F_1$ Score is high iff both precision and recall are high and none of them is small.\n",
    "5. **ROC Curve:** ROC curve plots the true positive rate (recall) against the false positive rate (FPR).\n",
    "\n",
    "\n",
    "\n"
   ]
  },
  {
   "cell_type": "code",
   "execution_count": 16,
   "id": "quantitative-bulgarian",
   "metadata": {
    "id": "quantitative-bulgarian"
   },
   "outputs": [],
   "source": [
    "X_train = Training_data.iloc[:,0:29]\n",
    "amount_train = Training_data[\"Amount\"]\n",
    "y_train = Training_data[\"Class\"]\n",
    "\n",
    "X_test = Test_data.iloc[:,0:29]\n",
    "amount_test = Test_data[\"Amount\"]\n",
    "y_test = Test_data[\"Class\"]"
   ]
  },
  {
   "cell_type": "code",
   "execution_count": 17,
   "id": "objective-baker",
   "metadata": {
    "colab": {
     "base_uri": "https://localhost:8080/"
    },
    "id": "objective-baker",
    "outputId": "fde89997-e6cd-4923-d2fc-a72288f2c4e2"
   },
   "outputs": [
    {
     "name": "stdout",
     "output_type": "stream",
     "text": [
      "            Time        V1        V2  ...       V26       V27       V28\n",
      "225184  144140.0 -0.581460  0.950267  ... -0.302469 -0.254862 -0.126279\n",
      "116637   74369.0  0.686730 -0.785586  ... -0.285560  0.022906  0.079838\n",
      "99414    67107.0 -0.848395  1.214313  ...  0.276440  0.217840  0.127724\n",
      "217619  140965.0 -1.104465  0.616952  ...  0.520578  0.151103  0.216899\n",
      "279878  169155.0  2.061985 -0.114758  ...  0.198512 -0.076625 -0.061905\n",
      "...          ...       ...       ...  ...       ...       ...       ...\n",
      "252674  155916.0 -1.614316 -2.196613  ... -0.616644  0.167373  0.355476\n",
      "272493  165116.0  1.865984  0.493816  ... -0.272947 -0.074285 -0.051281\n",
      "51193    44835.0  1.394441 -0.394118  ... -0.150152 -0.018914  0.011576\n",
      "226610  144714.0 -6.914008  5.516494  ... -0.193817  0.027400  0.442940\n",
      "90389    63000.0 -0.539838  1.634835  ...  0.180936  0.316102  0.149896\n",
      "\n",
      "[227845 rows x 29 columns]\n"
     ]
    }
   ],
   "source": [
    "print(X_train)"
   ]
  },
  {
   "cell_type": "markdown",
   "id": "BDm2cWomVO_V",
   "metadata": {
    "id": "BDm2cWomVO_V"
   },
   "source": [
    "# Centering and Scaling \n",
    "\n",
    "Before using any classification algorithm for training our data, we shall center and scale our training data."
   ]
  },
  {
   "cell_type": "code",
   "execution_count": 18,
   "id": "dSmmKn86Ve7Y",
   "metadata": {
    "id": "dSmmKn86Ve7Y"
   },
   "outputs": [],
   "source": [
    "from sklearn import preprocessing"
   ]
  },
  {
   "cell_type": "code",
   "execution_count": 19,
   "id": "IOpw2SbkVe-f",
   "metadata": {
    "id": "IOpw2SbkVe-f"
   },
   "outputs": [],
   "source": [
    "scalar=preprocessing.StandardScaler()\n",
    "scalar.fit(X_train)\n",
    "X_train_scaled=scalar.transform(X_train)"
   ]
  },
  {
   "cell_type": "code",
   "execution_count": 20,
   "id": "hWJtKDcQqIrx",
   "metadata": {
    "id": "hWJtKDcQqIrx"
   },
   "outputs": [],
   "source": [
    "X_train_scaled=pd.DataFrame(X_train_scaled)"
   ]
  },
  {
   "cell_type": "markdown",
   "id": "HSvAm6LVpZE0",
   "metadata": {
    "id": "HSvAm6LVpZE0"
   },
   "source": [
    "# Classification models"
   ]
  },
  {
   "cell_type": "code",
   "execution_count": 21,
   "id": "jwJ_4jZApX3y",
   "metadata": {
    "id": "jwJ_4jZApX3y"
   },
   "outputs": [],
   "source": [
    "from sklearn.model_selection import StratifiedKFold\n",
    "from sklearn.base import clone\n",
    "from sklearn.model_selection import cross_val_predict\n",
    "\n",
    "from sklearn.metrics import confusion_matrix, precision_score, recall_score, f1_score\n",
    "import sklearn.metrics"
   ]
  },
  {
   "cell_type": "markdown",
   "id": "successful-karaoke",
   "metadata": {
    "id": "successful-karaoke"
   },
   "source": [
    "## SGD Classifier"
   ]
  },
  {
   "cell_type": "code",
   "execution_count": 24,
   "id": "qfDmNnVbpi2W",
   "metadata": {
    "id": "qfDmNnVbpi2W"
   },
   "outputs": [],
   "source": [
    "import sklearn.linear_model as lm"
   ]
  },
  {
   "cell_type": "code",
   "execution_count": 25,
   "id": "incorrect-alarm",
   "metadata": {
    "id": "incorrect-alarm"
   },
   "outputs": [],
   "source": [
    "sgd_clf = lm.SGDClassifier(loss=\"hinge\", penalty=\"l2\", max_iter=300)"
   ]
  },
  {
   "cell_type": "code",
   "execution_count": 26,
   "id": "smooth-letter",
   "metadata": {
    "colab": {
     "base_uri": "https://localhost:8080/"
    },
    "id": "smooth-letter",
    "outputId": "b974d019-d940-47a0-c57d-c92bd834a31c"
   },
   "outputs": [
    {
     "name": "stdout",
     "output_type": "stream",
     "text": [
      "0.9991178290695072\n",
      "0.9991441512613893\n",
      "0.9991441512613893\n"
     ]
    }
   ],
   "source": [
    "skfolds = sklearn.model_selection.StratifiedKFold(n_splits=3)\n",
    "for train_index, test_index in skfolds.split(X_train_scaled, y_train):\n",
    "    sgd_clone_clf = clone(sgd_clf)\n",
    "    \n",
    "    X_train_folds = X_train_scaled.iloc[train_index,:]\n",
    "    y_train_folds = y_train.iloc[train_index]\n",
    "    X_test_fold = X_train_scaled.iloc[test_index,:]\n",
    "    y_test_fold = y_train.iloc[test_index]\n",
    "    \n",
    "    sgd_clone_clf.fit(X_train_folds, y_train_folds)\n",
    "    y_pred = sgd_clone_clf.predict(X_test_fold)\n",
    "    n_correct = sum(y_pred == y_test_fold)\n",
    "    print(n_correct / len(y_pred))"
   ]
  },
  {
   "cell_type": "code",
   "execution_count": 27,
   "id": "unusual-transmission",
   "metadata": {
    "id": "unusual-transmission"
   },
   "outputs": [],
   "source": [
    "y_predict_sgd = cross_val_predict(sgd_clf, X_train_scaled, y_train, cv=3)"
   ]
  },
  {
   "cell_type": "code",
   "execution_count": 28,
   "id": "answering-partner",
   "metadata": {
    "colab": {
     "base_uri": "https://localhost:8080/"
    },
    "id": "answering-partner",
    "outputId": "6cbba91e-9e74-47ee-aef7-793450887c67"
   },
   "outputs": [
    {
     "data": {
      "text/plain": [
       "array([[227416,     32],\n",
       "       [   162,    235]])"
      ]
     },
     "execution_count": 28,
     "metadata": {},
     "output_type": "execute_result"
    }
   ],
   "source": [
    "sklearn.metrics.confusion_matrix(y_train, y_predict_sgd)"
   ]
  },
  {
   "cell_type": "code",
   "execution_count": 29,
   "id": "assigned-model",
   "metadata": {
    "colab": {
     "base_uri": "https://localhost:8080/"
    },
    "id": "assigned-model",
    "outputId": "771bae6a-ab6b-4069-e1a8-2e526162d835"
   },
   "outputs": [
    {
     "data": {
      "text/plain": [
       "[0.8801498127340824, 0.5919395465994962, 0.7078313253012049]"
      ]
     },
     "execution_count": 29,
     "metadata": {},
     "output_type": "execute_result"
    }
   ],
   "source": [
    "[sklearn.metrics.precision_score(y_train, y_predict_sgd),\n",
    "sklearn.metrics.recall_score(y_train, y_predict_sgd),\n",
    "sklearn.metrics.f1_score(y_train, y_predict_sgd)]"
   ]
  },
  {
   "cell_type": "code",
   "execution_count": 30,
   "id": "brown-vector",
   "metadata": {
    "id": "brown-vector"
   },
   "outputs": [],
   "source": [
    "y_sgd_threshold = cross_val_predict(sgd_clf, X_train_scaled, y_train, cv=3, method=\"decision_function\")"
   ]
  },
  {
   "cell_type": "code",
   "execution_count": 31,
   "id": "functional-system",
   "metadata": {
    "id": "functional-system"
   },
   "outputs": [],
   "source": [
    "sgd_precisions, sgd_recalls, sgd_thresholds = sklearn.metrics.precision_recall_curve(y_train, y_sgd_threshold)"
   ]
  },
  {
   "cell_type": "code",
   "execution_count": 32,
   "id": "accurate-perspective",
   "metadata": {
    "colab": {
     "base_uri": "https://localhost:8080/",
     "height": 295
    },
    "id": "accurate-perspective",
    "outputId": "827cd82c-4c8b-42e9-9fcd-8b2d313b91b3"
   },
   "outputs": [
    {
     "data": {
      "image/png": "[encoded data removed]",
      "text/plain": [
       "<Figure size 432x288 with 1 Axes>"
      ]
     },
     "metadata": {
      "needs_background": "light"
     },
     "output_type": "display_data"
    }
   ],
   "source": [
    "def plot_precision_recall_vs_threshold(precisions, recalls, thresholds, title):\n",
    "    plt.plot(thresholds, precisions[:-1], \"b--\", label=\"Precision\")\n",
    "    plt.plot(thresholds, recalls[:-1], \"g-\", label=\"Recall\")\n",
    "    plt.xlabel(\"Threshold\")\n",
    "    plt.title(title+\" (Precision-Recall curve)\")\n",
    "    plt.legend() # highlight the threshold and add the legend, axis label, and grid\n",
    "\n",
    "plot_precision_recall_vs_threshold(sgd_precisions, sgd_recalls, sgd_thresholds, \"Stochastic Gradient Classifier\")\n",
    "plt.show()"
   ]
  },
  {
   "cell_type": "code",
   "execution_count": 33,
   "id": "wP6QNFPdc3FB",
   "metadata": {
    "colab": {
     "base_uri": "https://localhost:8080/",
     "height": 295
    },
    "id": "wP6QNFPdc3FB",
    "outputId": "eb37da93-cb7f-411a-c763-25846125ffa1"
   },
   "outputs": [
    {
     "data": {
      "image/png": "[encoded data removed]",
      "text/plain": [
       "<Figure size 432x288 with 1 Axes>"
      ]
     },
     "metadata": {
      "needs_background": "light"
     },
     "output_type": "display_data"
    }
   ],
   "source": [
    "sgd_fpr, sgd_tpr, sgd_thresholds = sklearn.metrics.roc_curve(y_train, y_sgd_threshold)\n",
    "\n",
    "def plot_roc_curve(fpr, tpr, title, label=None):\n",
    "    plt.plot(fpr, tpr, linewidth=2, label=label)\n",
    "    plt.plot([0, 1], [0, 1], 'k--') # Dashed diagonal\n",
    "    plt.xlabel(\"False Positive Rate\")\n",
    "    plt.ylabel(\"True Positive Rate\")\n",
    "    plt.title(title+\" (ROC curve)\")\n",
    "    [...] # Add axis labels and grid\n",
    "\n",
    "plot_roc_curve(sgd_fpr, sgd_tpr, \"Stochastic Gradient Classfier\")\n",
    "plt.show()"
   ]
  },
  {
   "cell_type": "code",
   "execution_count": 34,
   "id": "tZwPIyDfdOVi",
   "metadata": {
    "colab": {
     "base_uri": "https://localhost:8080/"
    },
    "id": "tZwPIyDfdOVi",
    "outputId": "2e7aa98d-a189-4c19-c95c-0bebfffd5587"
   },
   "outputs": [
    {
     "data": {
      "text/plain": [
       "0.9517870145999325"
      ]
     },
     "execution_count": 34,
     "metadata": {},
     "output_type": "execute_result"
    }
   ],
   "source": [
    "sklearn.metrics.roc_auc_score(y_train, y_sgd_threshold)"
   ]
  },
  {
   "cell_type": "markdown",
   "id": "pacific-providence",
   "metadata": {
    "id": "pacific-providence"
   },
   "source": [
    "We observe that $F_1$ score for SGD Classifier is around $70\\%$ with recall around $60\\%$. We shall fit more classification and see if they can better explain the model. "
   ]
  },
  {
   "cell_type": "markdown",
   "id": "undefined-burner",
   "metadata": {
    "id": "undefined-burner"
   },
   "source": [
    "## Logistic regression"
   ]
  },
  {
   "cell_type": "code",
   "execution_count": 35,
   "id": "decimal-words",
   "metadata": {
    "colab": {
     "base_uri": "https://localhost:8080/"
    },
    "id": "decimal-words",
    "outputId": "437e3210-08ab-48a0-fd79-2d69a9b59cf5"
   },
   "outputs": [
    {
     "data": {
      "text/plain": [
       "LogisticRegression(max_iter=350, random_state=0)"
      ]
     },
     "execution_count": 35,
     "metadata": {},
     "output_type": "execute_result"
    }
   ],
   "source": [
    "lr_clf=lm.LogisticRegression(max_iter=350,random_state=0)\n",
    "lr_clf.fit(X_train_scaled,y_train)"
   ]
  },
  {
   "cell_type": "code",
   "execution_count": 36,
   "id": "inside-reform",
   "metadata": {
    "colab": {
     "base_uri": "https://localhost:8080/"
    },
    "id": "inside-reform",
    "outputId": "7049e708-7007-4d20-ec4a-c5a2cf70d703",
    "scrolled": true
   },
   "outputs": [
    {
     "name": "stdout",
     "output_type": "stream",
     "text": [
      "0.9993021632937893\n",
      "0.9992099857797441\n",
      "0.9992363195870859\n"
     ]
    }
   ],
   "source": [
    "skfolds = sklearn.model_selection.StratifiedKFold(n_splits=3)\n",
    "for train_index, test_index in skfolds.split(X_train_scaled, y_train):\n",
    "    lr_clone_clf = clone(lr_clf)\n",
    "    \n",
    "    X_train_folds = X_train_scaled.iloc[train_index,:]\n",
    "    y_train_folds = y_train.iloc[train_index]\n",
    "    X_test_fold = X_train_scaled.iloc[test_index,:]\n",
    "    y_test_fold = y_train.iloc[test_index]\n",
    "    \n",
    "    lr_clone_clf.fit(X_train_folds, y_train_folds)\n",
    "    y_pred = lr_clone_clf.predict(X_test_fold)\n",
    "    n_correct = sum(y_pred == y_test_fold)\n",
    "    print(n_correct / len(y_pred))"
   ]
  },
  {
   "cell_type": "code",
   "execution_count": 37,
   "id": "returning-nightmare",
   "metadata": {
    "id": "returning-nightmare"
   },
   "outputs": [],
   "source": [
    "y_predict_lr=cross_val_predict(lr_clf, X_train_scaled, y_train, cv=3)"
   ]
  },
  {
   "cell_type": "code",
   "execution_count": 38,
   "id": "occupational-direction",
   "metadata": {
    "colab": {
     "base_uri": "https://localhost:8080/"
    },
    "id": "occupational-direction",
    "outputId": "0b32d4ae-f464-4edd-d8fd-483cf36418b4"
   },
   "outputs": [
    {
     "data": {
      "text/plain": [
       "array([[227417,     31],\n",
       "       [   140,    257]])"
      ]
     },
     "execution_count": 38,
     "metadata": {},
     "output_type": "execute_result"
    }
   ],
   "source": [
    "sklearn.metrics.confusion_matrix(y_train,y_predict_lr)"
   ]
  },
  {
   "cell_type": "code",
   "execution_count": 39,
   "id": "ZrMsli0Vve2O",
   "metadata": {
    "colab": {
     "base_uri": "https://localhost:8080/"
    },
    "id": "ZrMsli0Vve2O",
    "outputId": "d5201e1d-1a9e-4080-c57b-9c65b848cb3c"
   },
   "outputs": [
    {
     "data": {
      "text/plain": [
       "[0.8923611111111112, 0.6473551637279596, 0.7503649635036496]"
      ]
     },
     "execution_count": 39,
     "metadata": {},
     "output_type": "execute_result"
    }
   ],
   "source": [
    "[sklearn.metrics.precision_score(y_train, y_predict_lr),\n",
    "sklearn.metrics.recall_score(y_train, y_predict_lr),\n",
    "sklearn.metrics.f1_score(y_train, y_predict_lr)]"
   ]
  },
  {
   "cell_type": "code",
   "execution_count": 40,
   "id": "medical-pasta",
   "metadata": {
    "id": "medical-pasta"
   },
   "outputs": [],
   "source": [
    "y_lr_threshold = cross_val_predict(lr_clf, X_train_scaled, y_train, cv=3, method=\"decision_function\")\n",
    "lr_precisions, lr_recalls, lr_thresholds = sklearn.metrics.precision_recall_curve(y_train, y_lr_threshold)"
   ]
  },
  {
   "cell_type": "code",
   "execution_count": 41,
   "id": "welcome-patio",
   "metadata": {
    "colab": {
     "base_uri": "https://localhost:8080/",
     "height": 295
    },
    "id": "welcome-patio",
    "outputId": "1b195dc4-362a-45ee-962a-5df1b847bcdd",
    "scrolled": false
   },
   "outputs": [
    {
     "data": {
      "image/png": "[encoded data removed]",
      "text/plain": [
       "<Figure size 432x288 with 1 Axes>"
      ]
     },
     "metadata": {
      "needs_background": "light"
     },
     "output_type": "display_data"
    }
   ],
   "source": [
    "plot_precision_recall_vs_threshold(lr_precisions, lr_recalls, lr_thresholds, \"Logostic Regression\")\n",
    "plt.show()"
   ]
  },
  {
   "cell_type": "code",
   "execution_count": 42,
   "id": "external-essex",
   "metadata": {
    "colab": {
     "base_uri": "https://localhost:8080/",
     "height": 295
    },
    "id": "external-essex",
    "outputId": "20b2899c-706e-4bfc-9966-130c5f0d77d4",
    "scrolled": true
   },
   "outputs": [
    {
     "data": {
      "image/png": "[encoded data removed]",
      "text/plain": [
       "<Figure size 432x288 with 1 Axes>"
      ]
     },
     "metadata": {
      "needs_background": "light"
     },
     "output_type": "display_data"
    }
   ],
   "source": [
    "lr_fpr, lr_tpr, lr_thresholds = sklearn.metrics.roc_curve(y_train, y_lr_threshold)\n",
    "\n",
    "def plot_roc_curve(fpr, tpr, title, label=None):\n",
    "    plt.plot(fpr, tpr, linewidth=2, label=label)\n",
    "    plt.plot([0, 1], [0, 1], 'k--') # Dashed diagonal\n",
    "    plt.xlabel(\"False Positive Rate\")\n",
    "    plt.ylabel(\"True Positive Rate\")\n",
    "    plt.title(title+\" (ROC curve)\")\n",
    "    [...] # Add axis labels and grid\n",
    "\n",
    "plot_roc_curve(lr_fpr, lr_tpr, \"Logistic Regression\")\n",
    "plt.show()"
   ]
  },
  {
   "cell_type": "code",
   "execution_count": 43,
   "id": "plastic-warren",
   "metadata": {
    "colab": {
     "base_uri": "https://localhost:8080/"
    },
    "id": "plastic-warren",
    "outputId": "896d8080-6c3b-466d-f9bd-221fb0fd353a"
   },
   "outputs": [
    {
     "data": {
      "text/plain": [
       "0.9745023680558712"
      ]
     },
     "execution_count": 43,
     "metadata": {},
     "output_type": "execute_result"
    }
   ],
   "source": [
    "sklearn.metrics.roc_auc_score(y_train, y_lr_threshold)"
   ]
  },
  {
   "cell_type": "markdown",
   "id": "wO0nUZaZe2rP",
   "metadata": {
    "id": "wO0nUZaZe2rP"
   },
   "source": [
    "## Random Forest Classifier"
   ]
  },
  {
   "cell_type": "code",
   "execution_count": 61,
   "id": "_UhAWrEaykeh",
   "metadata": {
    "id": "_UhAWrEaykeh"
   },
   "outputs": [],
   "source": [
    "from sklearn.tree import DecisionTreeClassifier"
   ]
  },
  {
   "cell_type": "code",
   "execution_count": 47,
   "id": "ZyjxUTiQe1xL",
   "metadata": {
    "id": "ZyjxUTiQe1xL"
   },
   "outputs": [],
   "source": [
    "from sklearn.ensemble import RandomForestClassifier "
   ]
  },
  {
   "cell_type": "code",
   "execution_count": 51,
   "id": "nF4NXrmqfkXb",
   "metadata": {
    "id": "nF4NXrmqfkXb"
   },
   "outputs": [],
   "source": [
    "def classification_summary(classifier, X, y):\n",
    "    \n",
    "  summary1={}\n",
    "  skfolds = sklearn.model_selection.StratifiedKFold(n_splits=3)\n",
    "  for train_index, test_index in skfolds.split(X, y):\n",
    "    clf=clone(classifier)\n",
    "    accuracy_on_folds=[]\n",
    "    X_train_folds = X.iloc[train_index,:]\n",
    "    y_train_folds = y.iloc[train_index]\n",
    "    X_test_fold = X.iloc[test_index,:]\n",
    "    y_test_fold = y.iloc[test_index]\n",
    "\n",
    "    clf.fit(X_train_folds, y_train_folds)\n",
    "    y_pred = clf.predict(X_test_fold)\n",
    "    n_correct = sum(y_pred == y_test_fold)\n",
    "    accuracy_on_folds.append((n_correct / len(y_pred)))\n",
    "\n",
    "    y_predict=cross_val_predict(clf, X, y, cv=3)\n",
    "    summary1[\"confusion_matrix\"]=sklearn.metrics.confusion_matrix(y, y_predict)\n",
    "    summary1[\"precision_score\"]=sklearn.metrics.precision_score(y, y_predict)\n",
    "    summary1[\"recall_score\"]=sklearn.metrics.recall_score(y, y_predict)\n",
    "    summary1[\"f1_score\"]=sklearn.metrics.f1_score(y, y_predict)\n",
    "  return(summary1)  \n"
   ]
  },
  {
   "cell_type": "code",
   "execution_count": 52,
   "id": "x-V_G8S3fkcS",
   "metadata": {
    "colab": {
     "base_uri": "https://localhost:8080/"
    },
    "id": "x-V_G8S3fkcS",
    "outputId": "4b142fef-61ad-4e91-cf8e-96799733f697"
   },
   "outputs": [
    {
     "data": {
      "text/plain": [
       "{'confusion_matrix': array([[227427,     21],\n",
       "        [    92,    305]]),\n",
       " 'f1_score': 0.8437067773167358,\n",
       " 'precision_score': 0.9355828220858896,\n",
       " 'recall_score': 0.7682619647355163}"
      ]
     },
     "execution_count": 52,
     "metadata": {},
     "output_type": "execute_result"
    }
   ],
   "source": [
    "classification_summary(RandomForestClassifier(),X_train_scaled,y_train)"
   ]
  },
  {
   "cell_type": "markdown",
   "id": "VdU7ftOJuuxV",
   "metadata": {
    "id": "VdU7ftOJuuxV"
   },
   "source": [
    "Random Forest Classifier performs achives an $F_1$ score of 0.85 which is the better than that of SGD Classifier and Logistic Regression.\n",
    "\n",
    "Just like we trained many Decision Trees in Random Forest. We shall train Bagging Classifiers with the base classifiers as Logistic Regression and Fisher LDA."
   ]
  },
  {
   "cell_type": "markdown",
   "id": "-jXkZEtXylca",
   "metadata": {
    "id": "-jXkZEtXylca"
   },
   "source": [
    "## Bagging Classifiers"
   ]
  },
  {
   "cell_type": "code",
   "execution_count": 55,
   "id": "SJ-BIBeBwZ-s",
   "metadata": {
    "id": "SJ-BIBeBwZ-s"
   },
   "outputs": [],
   "source": [
    "from sklearn.ensemble import BaggingClassifier"
   ]
  },
  {
   "cell_type": "code",
   "execution_count": 57,
   "id": "8GK77ZmLPGnN",
   "metadata": {
    "id": "8GK77ZmLPGnN"
   },
   "outputs": [],
   "source": [
    "summary={}"
   ]
  },
  {
   "cell_type": "code",
   "execution_count": 58,
   "id": "XFpmgwyJykZ7",
   "metadata": {
    "id": "XFpmgwyJykZ7"
   },
   "outputs": [],
   "source": [
    "def bagging_classifiers(classifiers,X,y,B):\n",
    "    \n",
    "  # summary={}\n",
    "  for clf in classifiers:\n",
    "    summary[str(type(clf))]={}\n",
    "    skfolds = sklearn.model_selection.StratifiedKFold(n_splits=3)\n",
    "    for train_index, test_index in skfolds.split(X, y):\n",
    "      accuracy_on_folds=[]\n",
    "      X_train_folds = X.iloc[train_index,:]\n",
    "      y_train_folds = y.iloc[train_index]\n",
    "      X_test_fold = X.iloc[test_index,:]\n",
    "      y_test_fold = y.iloc[test_index]\n",
    "\n",
    "      bagging_clf=BaggingClassifier(base_estimator=clf,n_estimators=B).fit(X_train_folds,y_train_folds)\n",
    "      bagging_clf.fit(X_train_folds, y_train_folds)\n",
    "      y_pred = bagging_clf.predict(X_test_fold)\n",
    "      n_correct = sum(y_pred == y_test_fold)\n",
    "      accuracy_on_folds.append((n_correct / len(y_pred)))\n",
    "\n",
    "      y_predict=cross_val_predict(bagging_clf, X, y, cv=3)\n",
    "      summary[str(type(clf))][\"confusion_matrix\"]=sklearn.metrics.confusion_matrix(y, y_predict)\n",
    "      summary[str(type(clf))][\"precision_score\"]=sklearn.metrics.precision_score(y, y_predict)\n",
    "      summary[str(type(clf))][\"recall_score\"]=sklearn.metrics.recall_score(y, y_predict)\n",
    "      summary[str(type(clf))][\"f1_score\"]=sklearn.metrics.f1_score(y, y_predict)\n",
    "      y_bagging_threshold = cross_val_predict(bagging_clf, X, y, cv=3, method=\"decision_function\")\n",
    "      bagging_precisions, bagging_recalls, bagging_thresholds = sklearn.metrics.precision_recall_curve(y, y_bagging_threshold)\n",
    "      summary[str(type(clf))][\"precisions\"]=bagging_precisions\n",
    "      summary[str(type(clf))][\"recalls\"]=bagging_recalls\n",
    "      summary[str(type(clf))][\"thresholds1\"]=bagging_thresholds\n",
    "      # summary[str(type(clf))][\"precision-recall-curve\"]=plot_precision_recall_vs_threshold(bagging_precisions, bagging_recalls, bagging_thresholds, \"Precision-Recall-curve-\\nBagging\"+str(type(clf)))\n",
    "      bagging_fpr, bagging_tpr, bagging_thresholds = sklearn.metrics.roc_curve(y, y_bagging_threshold)\n",
    "      summary[str(type(clf))][\"fpr\"]=bagging_fpr\n",
    "      summary[str(type(clf))][\"tpr\"]=bagging_tpr\n",
    "      summary[str(type(clf))][\"thresholds2\"]=bagging_thresholds\n",
    "      # summary[str(type(clf))][\"roc_curve\"]=plot_roc_curve(bagging_fpr, bagging_tpr, \"Logistic Regression\")\n",
    "      summary[str(type(clf))][\"roc_auc_score\"]=sklearn.metrics.roc_auc_score(y, y_bagging_threshold)\n",
    "  return(summary)"
   ]
  },
  {
   "cell_type": "code",
   "execution_count": null,
   "id": "I9L3boEOMOpM",
   "metadata": {
    "id": "I9L3boEOMOpM"
   },
   "outputs": [],
   "source": [
    "B1=bagging_classifiers([sgd_clf,lr_clf],X_train_scaled,y_train,B=50)"
   ]
  },
  {
   "cell_type": "code",
   "execution_count": null,
   "id": "NEn2n7yZcVFf",
   "metadata": {
    "id": "NEn2n7yZcVFf"
   },
   "outputs": [],
   "source": [
    "summary"
   ]
  },
  {
   "cell_type": "markdown",
   "id": "oMQMydwS_Faq",
   "metadata": {
    "id": "oMQMydwS_Faq"
   },
   "source": [
    "### Bagging Classifier of SGD classifier"
   ]
  },
  {
   "cell_type": "code",
   "execution_count": 66,
   "id": "_fqxhasiAEc9",
   "metadata": {
    "colab": {
     "base_uri": "https://localhost:8080/"
    },
    "id": "_fqxhasiAEc9",
    "outputId": "478b15fa-9549-480b-8851-2fea1b1199be"
   },
   "outputs": [
    {
     "data": {
      "text/plain": [
       "dict_keys(['confusion_matrix', 'precision_score', 'recall_score', 'f1_score', 'precisions', 'recalls', 'thresholds1', 'precision-recall-curve', 'fpr', 'tpr', 'thresholds2', 'roc_curve', 'roc_auc_score'])"
      ]
     },
     "execution_count": 66,
     "metadata": {},
     "output_type": "execute_result"
    }
   ],
   "source": [
    "summary[str(type(sgd_clf))].keys()"
   ]
  },
  {
   "cell_type": "code",
   "execution_count": 80,
   "id": "DlaBiEi-FJKZ",
   "metadata": {
    "id": "DlaBiEi-FJKZ"
   },
   "outputs": [],
   "source": [
    "bagging_sgd=summary[str(type(sgd_clf))]"
   ]
  },
  {
   "cell_type": "code",
   "execution_count": 84,
   "id": "l6fkGsx6FlTU",
   "metadata": {
    "colab": {
     "base_uri": "https://localhost:8080/"
    },
    "id": "l6fkGsx6FlTU",
    "outputId": "83c3d74a-f4a0-4e58-ff5d-2322cbdc0346"
   },
   "outputs": [
    {
     "data": {
      "text/plain": [
       "array([[227422,     26],\n",
       "       [   180,    217]])"
      ]
     },
     "execution_count": 84,
     "metadata": {},
     "output_type": "execute_result"
    }
   ],
   "source": [
    "bagging_sgd[\"confusion_matrix\"]"
   ]
  },
  {
   "cell_type": "code",
   "execution_count": 85,
   "id": "rbzWN2IvFqrf",
   "metadata": {
    "colab": {
     "base_uri": "https://localhost:8080/"
    },
    "id": "rbzWN2IvFqrf",
    "outputId": "9f0330b3-7570-4971-e577-7677f34ca0c0"
   },
   "outputs": [
    {
     "data": {
      "text/plain": [
       "[0.8930041152263375, 0.5465994962216625, 0.678125]"
      ]
     },
     "execution_count": 85,
     "metadata": {},
     "output_type": "execute_result"
    }
   ],
   "source": [
    "[bagging_sgd[\"precision_score\"],\n",
    " bagging_sgd[\"recall_score\"],\n",
    " bagging_sgd[\"f1_score\"]]"
   ]
  },
  {
   "cell_type": "code",
   "execution_count": 81,
   "id": "1D28E5VI_ALV",
   "metadata": {
    "colab": {
     "base_uri": "https://localhost:8080/",
     "height": 295
    },
    "id": "1D28E5VI_ALV",
    "outputId": "7bb46086-f310-459b-b124-47aff03bd2cf"
   },
   "outputs": [
    {
     "data": {
      "image/png": "[encoded data removed]",
      "text/plain": [
       "<Figure size 432x288 with 1 Axes>"
      ]
     },
     "metadata": {
      "needs_background": "light"
     },
     "output_type": "display_data"
    }
   ],
   "source": [
    "plot_precision_recall_vs_threshold(bagging_sgd[\"precisions\"],\n",
    "                                   bagging_sgd[\"recalls\"],\n",
    "                                   bagging_sgd[\"thresholds1\"],\n",
    "                                   \"Bagging SGD Classification\")\n",
    "plt.show()"
   ]
  },
  {
   "cell_type": "code",
   "execution_count": 82,
   "id": "m0Z9F7OR_Ao7",
   "metadata": {
    "colab": {
     "base_uri": "https://localhost:8080/",
     "height": 295
    },
    "id": "m0Z9F7OR_Ao7",
    "outputId": "43fbd829-833c-49f4-a6d6-24e1e4d8e3f4"
   },
   "outputs": [
    {
     "data": {
      "image/png": "[encoded data removed]",
      "text/plain": [
       "<Figure size 432x288 with 1 Axes>"
      ]
     },
     "metadata": {
      "needs_background": "light"
     },
     "output_type": "display_data"
    }
   ],
   "source": [
    "plot_roc_curve(bagging_sgd[\"fpr\"], bagging_sgd[\"tpr\"], \"Bagging SGD Classifier\")\n",
    "plt.show()"
   ]
  },
  {
   "cell_type": "code",
   "execution_count": 83,
   "id": "7WGfJpQVDjoc",
   "metadata": {
    "colab": {
     "base_uri": "https://localhost:8080/"
    },
    "id": "7WGfJpQVDjoc",
    "outputId": "6be60c0d-39f1-4289-ed80-6d827ce43644"
   },
   "outputs": [
    {
     "data": {
      "text/plain": [
       "0.9710340745418644"
      ]
     },
     "execution_count": 83,
     "metadata": {},
     "output_type": "execute_result"
    }
   ],
   "source": [
    "bagging_sgd[\"roc_auc_score\"]"
   ]
  },
  {
   "cell_type": "markdown",
   "id": "YNJmyMjK_S-s",
   "metadata": {
    "id": "YNJmyMjK_S-s"
   },
   "source": [
    "### Bagging Classifier of Logistic Regression "
   ]
  },
  {
   "cell_type": "code",
   "execution_count": 73,
   "id": "qiazeMI8DwQN",
   "metadata": {
    "colab": {
     "base_uri": "https://localhost:8080/"
    },
    "id": "qiazeMI8DwQN",
    "outputId": "9615a4ee-b2fe-404d-e58a-a606843a6134"
   },
   "outputs": [
    {
     "data": {
      "text/plain": [
       "dict_keys(['confusion_matrix', 'precision_score', 'recall_score', 'f1_score', 'precisions', 'recalls', 'thresholds1', 'precision-recall-curve', 'fpr', 'tpr', 'thresholds2', 'roc_curve', 'roc_auc_score'])"
      ]
     },
     "execution_count": 73,
     "metadata": {},
     "output_type": "execute_result"
    }
   ],
   "source": [
    "summary[str(type(lr_clf))].keys()"
   ]
  },
  {
   "cell_type": "code",
   "execution_count": 75,
   "id": "AsEykI8wEN6A",
   "metadata": {
    "id": "AsEykI8wEN6A"
   },
   "outputs": [],
   "source": [
    "bagging_lr=summary[str(type(lr_clf))]"
   ]
  },
  {
   "cell_type": "code",
   "execution_count": 76,
   "id": "388MODDuD5JO",
   "metadata": {
    "colab": {
     "base_uri": "https://localhost:8080/"
    },
    "id": "388MODDuD5JO",
    "outputId": "a35d97d8-d6f9-4593-a46c-efaff1ef0724"
   },
   "outputs": [
    {
     "data": {
      "text/plain": [
       "[0.8961937716262975, 0.6523929471032746, 0.7551020408163265]"
      ]
     },
     "execution_count": 76,
     "metadata": {},
     "output_type": "execute_result"
    }
   ],
   "source": [
    "[bagging_lr[\"precision_score\"],\n",
    " bagging_lr[\"recall_score\"],\n",
    " bagging_lr[\"f1_score\"]]"
   ]
  },
  {
   "cell_type": "code",
   "execution_count": 77,
   "id": "IcXeQdoh_CYe",
   "metadata": {
    "colab": {
     "base_uri": "https://localhost:8080/",
     "height": 295
    },
    "id": "IcXeQdoh_CYe",
    "outputId": "f7d2bdd2-0882-4b8e-d0e5-0ea4a20d41c9"
   },
   "outputs": [
    {
     "data": {
      "image/png": "[encoded data removed]",
      "text/plain": [
       "<Figure size 432x288 with 1 Axes>"
      ]
     },
     "metadata": {
      "needs_background": "light"
     },
     "output_type": "display_data"
    }
   ],
   "source": [
    "plot_precision_recall_vs_threshold(bagging_lr[\"precisions\"],\n",
    "                                   bagging_lr[\"recalls\"],\n",
    "                                   bagging_lr[\"thresholds1\"],\n",
    "                                   \"Bagging Logistic Regression\")\n",
    "plt.show()"
   ]
  },
  {
   "cell_type": "code",
   "execution_count": 78,
   "id": "NDt0IMR8_CeN",
   "metadata": {
    "colab": {
     "base_uri": "https://localhost:8080/",
     "height": 295
    },
    "id": "NDt0IMR8_CeN",
    "outputId": "cef1961e-96cf-4212-cb99-543e00a531cb"
   },
   "outputs": [
    {
     "data": {
      "image/png": "[encoded data removed]",
      "text/plain": [
       "<Figure size 432x288 with 1 Axes>"
      ]
     },
     "metadata": {
      "needs_background": "light"
     },
     "output_type": "display_data"
    }
   ],
   "source": [
    "plot_roc_curve(bagging_lr[\"fpr\"], bagging_lr[\"tpr\"], \"Bagging Logistic Regression\")\n",
    "plt.show()"
   ]
  },
  {
   "cell_type": "code",
   "execution_count": 79,
   "id": "V2RigiL2DGke",
   "metadata": {
    "colab": {
     "base_uri": "https://localhost:8080/"
    },
    "id": "V2RigiL2DGke",
    "outputId": "87dda381-3fca-47c0-a9d9-ab5a583caf91"
   },
   "outputs": [
    {
     "data": {
      "text/plain": [
       "0.9736332680287341"
      ]
     },
     "execution_count": 79,
     "metadata": {},
     "output_type": "execute_result"
    }
   ],
   "source": [
    "bagging_lr[\"roc_auc_score\"]"
   ]
  },
  {
   "cell_type": "code",
   "execution_count": 62,
   "id": "fT8uwMw663-E",
   "metadata": {
    "colab": {
     "base_uri": "https://localhost:8080/"
    },
    "id": "fT8uwMw663-E",
    "outputId": "733fcb49-7ab0-4d22-95f8-d23a9107b01f"
   },
   "outputs": [
    {
     "data": {
      "text/plain": [
       "dict"
      ]
     },
     "execution_count": 62,
     "metadata": {},
     "output_type": "execute_result"
    }
   ],
   "source": [
    "type(summary)"
   ]
  },
  {
   "cell_type": "code",
   "execution_count": 63,
   "id": "I7O67bnG8KZn",
   "metadata": {
    "id": "I7O67bnG8KZn"
   },
   "outputs": [],
   "source": [
    "import pickle\n",
    "\n",
    "with open(\"Summary_bagging_lr_and_lda.pkl\",\"wb\") as outp:\n",
    "  pickle.dump(summary,outp,pickle.HIGHEST_PROTOCOL)"
   ]
  },
  {
   "cell_type": "markdown",
   "id": "uvvE8PxWHhX4",
   "metadata": {
    "id": "uvvE8PxWHhX4"
   },
   "source": [
    "# Summary\n",
    "\n",
    "Following is the summary of the above classification rules\n",
    "\n",
    "| |Precision | Recall | $F_1$ score | ROC_AUC score |\n",
    "|---|---|---|---|---|\n",
    "| SGD Classifier (SGD) | 0.88 | 0.59 | 0.71 | 0.95 |\n",
    "| Logistic Regression (LR) | 0.89 | 0.65 | 0.75 | 0.97 |\n",
    "| Random Forests | 0.94 | 0.77 | 0.84 |  |\n",
    "| Bagging SGD | 0.89 | 0.55 | 0.68 | 0.97 |\n",
    "| Bagging LR | 0.89 | 0.65 | 0.76 | 0.97 |\n",
    "\n",
    "\n",
    "We observe that among all the classification models trained above, Random Forests has the best recall and $F_1$ score.\n"
   ]
  },
  {
   "cell_type": "markdown",
   "id": "trained-fighter",
   "metadata": {},
   "source": [
    "---"
   ]
  }
 ],
 "metadata": {
  "colab": {
   "collapsed_sections": [
    "biological-metallic"
   ],
   "name": "CC_Fraud_Detection.ipynb",
   "provenance": []
  },
  "kernelspec": {
   "display_name": "Python 3",
   "language": "python",
   "name": "python3"
  },
  "language_info": {
   "codemirror_mode": {
    "name": "ipython",
    "version": 3
   },
   "file_extension": ".py",
   "mimetype": "text/x-python",
   "name": "python",
   "nbconvert_exporter": "python",
   "pygments_lexer": "ipython3",
   "version": "3.8.2"
  },
  "latex_envs": {
   "LaTeX_envs_menu_present": true,
   "autoclose": false,
   "autocomplete": true,
   "bibliofile": "biblio.bib",
   "cite_by": "apalike",
   "current_citInitial": 1,
   "eqLabelWithNumbers": true,
   "eqNumInitial": 1,
   "hotkeys": {
    "equation": "Ctrl-E",
    "itemize": "Ctrl-I"
   },
   "labels_anchors": false,
   "latex_user_defs": false,
   "report_style_numbering": false,
   "user_envs_cfg": false
  }
 },
 "nbformat": 4,
 "nbformat_minor": 5
}
